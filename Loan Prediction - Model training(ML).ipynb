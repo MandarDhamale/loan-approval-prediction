{
 "cells": [
  {
   "cell_type": "code",
   "execution_count": 1,
   "id": "0863391b",
   "metadata": {},
   "outputs": [],
   "source": [
    "import pandas as pd\n",
    "from os import chdir\n",
    "chdir(\"C:/Users/manda/Documents/Notes/Datasets/\")\n",
    "from warnings import filterwarnings\n",
    "filterwarnings(\"ignore\")"
   ]
  },
  {
   "cell_type": "markdown",
   "id": "ea4da1ab",
   "metadata": {},
   "source": [
    "## Problem Statement 1 - Loan_Status"
   ]
  },
  {
   "cell_type": "code",
   "execution_count": 2,
   "id": "2571d6e8",
   "metadata": {},
   "outputs": [],
   "source": [
    "A = pd.read_csv(\"loan_training_set.csv\")"
   ]
  },
  {
   "cell_type": "markdown",
   "id": "14a74751",
   "metadata": {},
   "source": [
    "## Dataset Profile"
   ]
  },
  {
   "cell_type": "code",
   "execution_count": 3,
   "id": "34c34a39",
   "metadata": {},
   "outputs": [
    {
     "data": {
      "text/html": [
       "<div>\n",
       "<style scoped>\n",
       "    .dataframe tbody tr th:only-of-type {\n",
       "        vertical-align: middle;\n",
       "    }\n",
       "\n",
       "    .dataframe tbody tr th {\n",
       "        vertical-align: top;\n",
       "    }\n",
       "\n",
       "    .dataframe thead th {\n",
       "        text-align: right;\n",
       "    }\n",
       "</style>\n",
       "<table border=\"1\" class=\"dataframe\">\n",
       "  <thead>\n",
       "    <tr style=\"text-align: right;\">\n",
       "      <th></th>\n",
       "      <th>Loan_ID</th>\n",
       "      <th>Gender</th>\n",
       "      <th>Married</th>\n",
       "      <th>Dependents</th>\n",
       "      <th>Education</th>\n",
       "      <th>Self_Employed</th>\n",
       "      <th>ApplicantIncome</th>\n",
       "      <th>CoapplicantIncome</th>\n",
       "      <th>LoanAmount</th>\n",
       "      <th>Loan_Amount_Term</th>\n",
       "      <th>Credit_History</th>\n",
       "      <th>Property_Area</th>\n",
       "      <th>Loan_Status</th>\n",
       "    </tr>\n",
       "  </thead>\n",
       "  <tbody>\n",
       "    <tr>\n",
       "      <th>0</th>\n",
       "      <td>LP001002</td>\n",
       "      <td>Male</td>\n",
       "      <td>No</td>\n",
       "      <td>0</td>\n",
       "      <td>Graduate</td>\n",
       "      <td>No</td>\n",
       "      <td>5849.0</td>\n",
       "      <td>0.0</td>\n",
       "      <td>NaN</td>\n",
       "      <td>360.0</td>\n",
       "      <td>1.0</td>\n",
       "      <td>Urban</td>\n",
       "      <td>Y</td>\n",
       "    </tr>\n",
       "    <tr>\n",
       "      <th>1</th>\n",
       "      <td>LP001003</td>\n",
       "      <td>Male</td>\n",
       "      <td>Yes</td>\n",
       "      <td>1</td>\n",
       "      <td>Graduate</td>\n",
       "      <td>No</td>\n",
       "      <td>NaN</td>\n",
       "      <td>1508.0</td>\n",
       "      <td>128.0</td>\n",
       "      <td>360.0</td>\n",
       "      <td>1.0</td>\n",
       "      <td>Rural</td>\n",
       "      <td>N</td>\n",
       "    </tr>\n",
       "    <tr>\n",
       "      <th>2</th>\n",
       "      <td>LP001005</td>\n",
       "      <td>Male</td>\n",
       "      <td>Yes</td>\n",
       "      <td>0</td>\n",
       "      <td>Graduate</td>\n",
       "      <td>Yes</td>\n",
       "      <td>3000.0</td>\n",
       "      <td>0.0</td>\n",
       "      <td>66.0</td>\n",
       "      <td>360.0</td>\n",
       "      <td>1.0</td>\n",
       "      <td>Urban</td>\n",
       "      <td>Y</td>\n",
       "    </tr>\n",
       "    <tr>\n",
       "      <th>3</th>\n",
       "      <td>LP001006</td>\n",
       "      <td>Male</td>\n",
       "      <td>Yes</td>\n",
       "      <td>0</td>\n",
       "      <td>Not Graduate</td>\n",
       "      <td>No</td>\n",
       "      <td>2583.0</td>\n",
       "      <td>2358.0</td>\n",
       "      <td>120.0</td>\n",
       "      <td>360.0</td>\n",
       "      <td>1.0</td>\n",
       "      <td>Urban</td>\n",
       "      <td>Y</td>\n",
       "    </tr>\n",
       "    <tr>\n",
       "      <th>4</th>\n",
       "      <td>LP001008</td>\n",
       "      <td>Male</td>\n",
       "      <td>No</td>\n",
       "      <td>0</td>\n",
       "      <td>Graduate</td>\n",
       "      <td>No</td>\n",
       "      <td>6000.0</td>\n",
       "      <td>0.0</td>\n",
       "      <td>141.0</td>\n",
       "      <td>360.0</td>\n",
       "      <td>1.0</td>\n",
       "      <td>Urban</td>\n",
       "      <td>Y</td>\n",
       "    </tr>\n",
       "  </tbody>\n",
       "</table>\n",
       "</div>"
      ],
      "text/plain": [
       "    Loan_ID Gender Married Dependents     Education Self_Employed  \\\n",
       "0  LP001002   Male      No          0      Graduate            No   \n",
       "1  LP001003   Male     Yes          1      Graduate            No   \n",
       "2  LP001005   Male     Yes          0      Graduate           Yes   \n",
       "3  LP001006   Male     Yes          0  Not Graduate            No   \n",
       "4  LP001008   Male      No          0      Graduate            No   \n",
       "\n",
       "   ApplicantIncome  CoapplicantIncome  LoanAmount  Loan_Amount_Term  \\\n",
       "0           5849.0                0.0         NaN             360.0   \n",
       "1              NaN             1508.0       128.0             360.0   \n",
       "2           3000.0                0.0        66.0             360.0   \n",
       "3           2583.0             2358.0       120.0             360.0   \n",
       "4           6000.0                0.0       141.0             360.0   \n",
       "\n",
       "   Credit_History Property_Area Loan_Status  \n",
       "0             1.0         Urban           Y  \n",
       "1             1.0         Rural           N  \n",
       "2             1.0         Urban           Y  \n",
       "3             1.0         Urban           Y  \n",
       "4             1.0         Urban           Y  "
      ]
     },
     "execution_count": 3,
     "metadata": {},
     "output_type": "execute_result"
    }
   ],
   "source": [
    "A.head()"
   ]
  },
  {
   "cell_type": "code",
   "execution_count": 4,
   "id": "e8e0d240",
   "metadata": {},
   "outputs": [
    {
     "name": "stdout",
     "output_type": "stream",
     "text": [
      "<class 'pandas.core.frame.DataFrame'>\n",
      "RangeIndex: 614 entries, 0 to 613\n",
      "Data columns (total 13 columns):\n",
      " #   Column             Non-Null Count  Dtype  \n",
      "---  ------             --------------  -----  \n",
      " 0   Loan_ID            614 non-null    object \n",
      " 1   Gender             599 non-null    object \n",
      " 2   Married            611 non-null    object \n",
      " 3   Dependents         599 non-null    object \n",
      " 4   Education          613 non-null    object \n",
      " 5   Self_Employed      582 non-null    object \n",
      " 6   ApplicantIncome    612 non-null    float64\n",
      " 7   CoapplicantIncome  613 non-null    float64\n",
      " 8   LoanAmount         592 non-null    float64\n",
      " 9   Loan_Amount_Term   600 non-null    float64\n",
      " 10  Credit_History     564 non-null    float64\n",
      " 11  Property_Area      614 non-null    object \n",
      " 12  Loan_Status        614 non-null    object \n",
      "dtypes: float64(5), object(8)\n",
      "memory usage: 62.5+ KB\n"
     ]
    }
   ],
   "source": [
    "A.info()"
   ]
  },
  {
   "cell_type": "code",
   "execution_count": 5,
   "id": "2133e314",
   "metadata": {},
   "outputs": [
    {
     "data": {
      "text/plain": [
       "Loan_ID              614\n",
       "Gender                 2\n",
       "Married                2\n",
       "Dependents             4\n",
       "Education              2\n",
       "Self_Employed          2\n",
       "ApplicantIncome      504\n",
       "CoapplicantIncome    286\n",
       "LoanAmount           203\n",
       "Loan_Amount_Term      10\n",
       "Credit_History         2\n",
       "Property_Area          3\n",
       "Loan_Status            2\n",
       "dtype: int64"
      ]
     },
     "execution_count": 5,
     "metadata": {},
     "output_type": "execute_result"
    }
   ],
   "source": [
    "A.nunique()"
   ]
  },
  {
   "cell_type": "code",
   "execution_count": 6,
   "id": "4ccd73a3",
   "metadata": {},
   "outputs": [
    {
     "data": {
      "text/plain": [
       "array(['Urban', 'Rural', 'Semiurban'], dtype=object)"
      ]
     },
     "execution_count": 6,
     "metadata": {},
     "output_type": "execute_result"
    }
   ],
   "source": [
    "A['Property_Area'].unique()"
   ]
  },
  {
   "cell_type": "markdown",
   "id": "f2bc0e49",
   "metadata": {},
   "source": [
    "## Dropping Discrete Features"
   ]
  },
  {
   "cell_type": "code",
   "execution_count": 7,
   "id": "f7735a8c",
   "metadata": {},
   "outputs": [],
   "source": [
    "A = A.drop(labels=\"Loan_ID\", axis=1)"
   ]
  },
  {
   "cell_type": "code",
   "execution_count": 8,
   "id": "a9547493",
   "metadata": {},
   "outputs": [],
   "source": [
    "# seperating categorical and continous features list\n",
    "cat = []\n",
    "con = []\n",
    "\n",
    "for i in A.columns:\n",
    "    if(A[i].dtypes == \"object\"):\n",
    "        cat.append(i)\n",
    "    else:\n",
    "        con.append(i)"
   ]
  },
  {
   "cell_type": "code",
   "execution_count": 9,
   "id": "28499584",
   "metadata": {},
   "outputs": [
    {
     "name": "stdout",
     "output_type": "stream",
     "text": [
      "['Gender', 'Married', 'Dependents', 'Education', 'Self_Employed', 'Property_Area', 'Loan_Status']\n"
     ]
    }
   ],
   "source": [
    "print(cat)"
   ]
  },
  {
   "cell_type": "code",
   "execution_count": 10,
   "id": "8dff79ea",
   "metadata": {},
   "outputs": [
    {
     "name": "stdout",
     "output_type": "stream",
     "text": [
      "['ApplicantIncome', 'CoapplicantIncome', 'LoanAmount', 'Loan_Amount_Term', 'Credit_History']\n"
     ]
    }
   ],
   "source": [
    "print(con)"
   ]
  },
  {
   "cell_type": "markdown",
   "id": "fcd30034",
   "metadata": {},
   "source": [
    "## Missing Data Treatment"
   ]
  },
  {
   "cell_type": "code",
   "execution_count": 11,
   "id": "1a6ebe9f",
   "metadata": {},
   "outputs": [],
   "source": [
    "for i in A.columns:\n",
    "    if(A[i].dtypes == \"object\"):\n",
    "        temp = A[i].mode()[0]\n",
    "        A[i] = A[i].fillna(temp)\n",
    "    else:\n",
    "        temp = round(A[i].mean(), 3)\n",
    "        A[i] = A[i].fillna(temp)"
   ]
  },
  {
   "cell_type": "code",
   "execution_count": 12,
   "id": "ca52f8cf",
   "metadata": {},
   "outputs": [
    {
     "data": {
      "text/plain": [
       "'Male'"
      ]
     },
     "execution_count": 12,
     "metadata": {},
     "output_type": "execute_result"
    }
   ],
   "source": [
    "A['Gender'].mode()[0]"
   ]
  },
  {
   "cell_type": "code",
   "execution_count": 13,
   "id": "fc558483",
   "metadata": {},
   "outputs": [
    {
     "data": {
      "text/plain": [
       "146.412"
      ]
     },
     "execution_count": 13,
     "metadata": {},
     "output_type": "execute_result"
    }
   ],
   "source": [
    "round(A['LoanAmount'].mean(), 3)"
   ]
  },
  {
   "cell_type": "code",
   "execution_count": 14,
   "id": "e7e9fe77",
   "metadata": {},
   "outputs": [
    {
     "data": {
      "text/plain": [
       "Gender               0\n",
       "Married              0\n",
       "Dependents           0\n",
       "Education            0\n",
       "Self_Employed        0\n",
       "ApplicantIncome      0\n",
       "CoapplicantIncome    0\n",
       "LoanAmount           0\n",
       "Loan_Amount_Term     0\n",
       "Credit_History       0\n",
       "Property_Area        0\n",
       "Loan_Status          0\n",
       "dtype: int64"
      ]
     },
     "execution_count": 14,
     "metadata": {},
     "output_type": "execute_result"
    }
   ],
   "source": [
    "A.isna().sum()"
   ]
  },
  {
   "cell_type": "markdown",
   "id": "c61a0dde",
   "metadata": {},
   "source": [
    "## Outliers"
   ]
  },
  {
   "cell_type": "code",
   "execution_count": 15,
   "id": "1a8b5277",
   "metadata": {},
   "outputs": [],
   "source": [
    "from sklearn.preprocessing import StandardScaler\n",
    "ss = StandardScaler()\n",
    "Q = pd.DataFrame(ss.fit_transform(A[con]), columns=con)"
   ]
  },
  {
   "cell_type": "code",
   "execution_count": 16,
   "id": "81f4d3eb",
   "metadata": {},
   "outputs": [
    {
     "data": {
      "text/html": [
       "<div>\n",
       "<style scoped>\n",
       "    .dataframe tbody tr th:only-of-type {\n",
       "        vertical-align: middle;\n",
       "    }\n",
       "\n",
       "    .dataframe tbody tr th {\n",
       "        vertical-align: top;\n",
       "    }\n",
       "\n",
       "    .dataframe thead th {\n",
       "        text-align: right;\n",
       "    }\n",
       "</style>\n",
       "<table border=\"1\" class=\"dataframe\">\n",
       "  <thead>\n",
       "    <tr style=\"text-align: right;\">\n",
       "      <th></th>\n",
       "      <th>ApplicantIncome</th>\n",
       "      <th>CoapplicantIncome</th>\n",
       "      <th>LoanAmount</th>\n",
       "      <th>Loan_Amount_Term</th>\n",
       "      <th>Credit_History</th>\n",
       "    </tr>\n",
       "  </thead>\n",
       "  <tbody>\n",
       "    <tr>\n",
       "      <th>0</th>\n",
       "      <td>7.265121e-02</td>\n",
       "      <td>-0.554368</td>\n",
       "      <td>-0.000002</td>\n",
       "      <td>0.279851</td>\n",
       "      <td>0.451687</td>\n",
       "    </tr>\n",
       "    <tr>\n",
       "      <th>1</th>\n",
       "      <td>2.454758e-08</td>\n",
       "      <td>-0.038610</td>\n",
       "      <td>-0.219273</td>\n",
       "      <td>0.279851</td>\n",
       "      <td>0.451687</td>\n",
       "    </tr>\n",
       "    <tr>\n",
       "      <th>2</th>\n",
       "      <td>-3.940959e-01</td>\n",
       "      <td>-0.554368</td>\n",
       "      <td>-0.957641</td>\n",
       "      <td>0.279851</td>\n",
       "      <td>0.451687</td>\n",
       "    </tr>\n",
       "    <tr>\n",
       "      <th>3</th>\n",
       "      <td>-4.624124e-01</td>\n",
       "      <td>0.252103</td>\n",
       "      <td>-0.314546</td>\n",
       "      <td>0.279851</td>\n",
       "      <td>0.451687</td>\n",
       "    </tr>\n",
       "    <tr>\n",
       "      <th>4</th>\n",
       "      <td>9.738930e-02</td>\n",
       "      <td>-0.554368</td>\n",
       "      <td>-0.064454</td>\n",
       "      <td>0.279851</td>\n",
       "      <td>0.451687</td>\n",
       "    </tr>\n",
       "  </tbody>\n",
       "</table>\n",
       "</div>"
      ],
      "text/plain": [
       "   ApplicantIncome  CoapplicantIncome  LoanAmount  Loan_Amount_Term  \\\n",
       "0     7.265121e-02          -0.554368   -0.000002          0.279851   \n",
       "1     2.454758e-08          -0.038610   -0.219273          0.279851   \n",
       "2    -3.940959e-01          -0.554368   -0.957641          0.279851   \n",
       "3    -4.624124e-01           0.252103   -0.314546          0.279851   \n",
       "4     9.738930e-02          -0.554368   -0.064454          0.279851   \n",
       "\n",
       "   Credit_History  \n",
       "0        0.451687  \n",
       "1        0.451687  \n",
       "2        0.451687  \n",
       "3        0.451687  \n",
       "4        0.451687  "
      ]
     },
     "execution_count": 16,
     "metadata": {},
     "output_type": "execute_result"
    }
   ],
   "source": [
    "Q.head()"
   ]
  },
  {
   "cell_type": "code",
   "execution_count": 17,
   "id": "7b3afbfc",
   "metadata": {},
   "outputs": [],
   "source": [
    "out = []\n",
    "for i in con:\n",
    "    out.extend(Q[(Q[i]>3) | (Q[i]<-3)].index)"
   ]
  },
  {
   "cell_type": "code",
   "execution_count": 18,
   "id": "ae065fde",
   "metadata": {},
   "outputs": [
    {
     "name": "stdout",
     "output_type": "stream",
     "text": [
      "[126, 155, 171, 183, 185, 333, 409, 443, 9, 177, 402, 417, 581, 600, 130, 155, 171, 177, 278, 308, 333, 369, 432, 487, 506, 523, 525, 561, 604, 14, 68, 94, 133, 242, 262, 313, 495, 497, 546, 575, 585]\n"
     ]
    }
   ],
   "source": [
    "print(out)"
   ]
  },
  {
   "cell_type": "code",
   "execution_count": 19,
   "id": "0420d931",
   "metadata": {},
   "outputs": [],
   "source": [
    "import numpy as np\n",
    "outliers = np.unique(out)"
   ]
  },
  {
   "cell_type": "code",
   "execution_count": 20,
   "id": "0758169b",
   "metadata": {},
   "outputs": [
    {
     "data": {
      "text/plain": [
       "array([  9,  14,  68,  94, 126, 130, 133, 155, 171, 177, 183, 185, 242,\n",
       "       262, 278, 308, 313, 333, 369, 402, 409, 417, 432, 443, 487, 495,\n",
       "       497, 506, 523, 525, 546, 561, 575, 581, 585, 600, 604])"
      ]
     },
     "execution_count": 20,
     "metadata": {},
     "output_type": "execute_result"
    }
   ],
   "source": [
    "outliers"
   ]
  },
  {
   "cell_type": "code",
   "execution_count": 21,
   "id": "f5161bfd",
   "metadata": {},
   "outputs": [],
   "source": [
    "A = A.drop(index=outliers, axis=0)"
   ]
  },
  {
   "cell_type": "code",
   "execution_count": 22,
   "id": "8352b4fc",
   "metadata": {},
   "outputs": [
    {
     "data": {
      "text/plain": [
       "(577, 12)"
      ]
     },
     "execution_count": 22,
     "metadata": {},
     "output_type": "execute_result"
    }
   ],
   "source": [
    "A.shape"
   ]
  },
  {
   "cell_type": "code",
   "execution_count": 23,
   "id": "adb54eac",
   "metadata": {},
   "outputs": [],
   "source": [
    "A.index = range(0,577)"
   ]
  },
  {
   "cell_type": "markdown",
   "id": "52f5e601",
   "metadata": {},
   "source": [
    "## Exploratory Data Analysis"
   ]
  },
  {
   "cell_type": "markdown",
   "id": "130af896",
   "metadata": {},
   "source": [
    "### Continous features analysis - ANOVA Test of Independence"
   ]
  },
  {
   "cell_type": "code",
   "execution_count": 24,
   "id": "df305c51",
   "metadata": {},
   "outputs": [],
   "source": [
    "#ANOVA function\n",
    "def ANOVA(dataframe, continous, categorical):\n",
    "    from statsmodels.formula.api import ols\n",
    "    eqn = str(continous) + \"~\" + str(categorical)\n",
    "    model = ols(eqn, dataframe).fit()\n",
    "    from statsmodels.stats.anova import anova_lm\n",
    "    rs = anova_lm(model)\n",
    "    return rs.iloc[0:1,4].values[0]"
   ]
  },
  {
   "cell_type": "code",
   "execution_count": 25,
   "id": "64705930",
   "metadata": {},
   "outputs": [],
   "source": [
    "anova_pvals = {} #creating a dictionary for pvalues from ANOVA\n",
    "for i in con:\n",
    "    pval = ANOVA(A, i, \"Loan_Status\")\n",
    "    anova_pvals[i] = pval"
   ]
  },
  {
   "cell_type": "code",
   "execution_count": 26,
   "id": "22662062",
   "metadata": {},
   "outputs": [
    {
     "data": {
      "text/plain": [
       "{'ApplicantIncome': 0.8943444103680676,\n",
       " 'CoapplicantIncome': 0.2820625898787197,\n",
       " 'LoanAmount': 0.3975038561633506,\n",
       " 'Loan_Amount_Term': 0.6636212713375147,\n",
       " 'Credit_History': 2.5581568040267957e-49}"
      ]
     },
     "execution_count": 26,
     "metadata": {},
     "output_type": "execute_result"
    }
   ],
   "source": [
    "anova_pvals #p-values for all continous features"
   ]
  },
  {
   "cell_type": "code",
   "execution_count": 27,
   "id": "12992c91",
   "metadata": {},
   "outputs": [
    {
     "name": "stdout",
     "output_type": "stream",
     "text": [
      "CoapplicantIncome : 0.2820625898787197\n",
      "LoanAmount : 0.3975038561633506\n",
      "Credit_History : 2.5581568040267957e-49\n"
     ]
    }
   ],
   "source": [
    "#filtering good continous features (having pval less than 0.4)\n",
    "for key, value in anova_pvals.items():\n",
    "    if(value < 0.4):\n",
    "        print(key, \":\", value)"
   ]
  },
  {
   "cell_type": "markdown",
   "id": "0a272623",
   "metadata": {},
   "source": [
    "From ANOVA we can conclude that 'ApplicantIncome', 'CoapplicantIncome', 'LoanAmount', 'Credit_History' are good continous predictors for 'Loan_Status'."
   ]
  },
  {
   "cell_type": "markdown",
   "id": "47e7f8c0",
   "metadata": {},
   "source": [
    "### Categorical features analysis - Chi-Square Test"
   ]
  },
  {
   "cell_type": "code",
   "execution_count": 28,
   "id": "e6cbfb33",
   "metadata": {},
   "outputs": [],
   "source": [
    "# Chi-Square Test function\n",
    "def ChiSq(dataframe, categorical1, categorical2):\n",
    "    from scipy.stats import chi2_contingency\n",
    "    rs = chi2_contingency(pd.crosstab(dataframe[categorical1], dataframe[categorical2]))\n",
    "    return rs[1]"
   ]
  },
  {
   "cell_type": "code",
   "execution_count": 29,
   "id": "d67de288",
   "metadata": {},
   "outputs": [],
   "source": [
    "chisq_pvals = {} # creating a dictionary for pvalues from Chi-Square test\n",
    "for i in cat:\n",
    "    pval = ChiSq(A, i, \"Loan_Status\")\n",
    "    chisq_pvals[i] = pval"
   ]
  },
  {
   "cell_type": "code",
   "execution_count": 30,
   "id": "24efe258",
   "metadata": {},
   "outputs": [
    {
     "data": {
      "text/plain": [
       "{'Gender': 0.7623575001800956,\n",
       " 'Married': 0.04093872592584048,\n",
       " 'Dependents': 0.5826451238806551,\n",
       " 'Education': 0.03414825953694172,\n",
       " 'Self_Employed': 0.6158136683554957,\n",
       " 'Property_Area': 0.0023192782270974365,\n",
       " 'Loan_Status': 1.7422936841219314e-126}"
      ]
     },
     "execution_count": 30,
     "metadata": {},
     "output_type": "execute_result"
    }
   ],
   "source": [
    "chisq_pvals #p-values for all categorical features"
   ]
  },
  {
   "cell_type": "code",
   "execution_count": 31,
   "id": "fa4b2ef3",
   "metadata": {},
   "outputs": [
    {
     "name": "stdout",
     "output_type": "stream",
     "text": [
      "Married : 0.04093872592584048\n",
      "Education : 0.03414825953694172\n",
      "Property_Area : 0.0023192782270974365\n",
      "Loan_Status : 1.7422936841219314e-126\n"
     ]
    }
   ],
   "source": [
    "#filtering good categorical features (having pval less than 0.05)\n",
    "for key, value in chisq_pvals.items():\n",
    "    if(value < 0.2):\n",
    "        print(key, \":\", value)"
   ]
  },
  {
   "cell_type": "markdown",
   "id": "b8f02d95",
   "metadata": {},
   "source": [
    "From Chi-Square Test we can conclude that 'Married', 'Education', 'Property_Area' are good categorical predictors for 'Loan_Status'"
   ]
  },
  {
   "cell_type": "markdown",
   "id": "3ad32fe3",
   "metadata": {},
   "source": [
    "## Define X and Y"
   ]
  },
  {
   "cell_type": "code",
   "execution_count": 32,
   "id": "ab24d0bc",
   "metadata": {},
   "outputs": [],
   "source": [
    "Y = A[[\"Loan_Status\"]]\n",
    "X = A[\n",
    "    [\n",
    "        \"CoapplicantIncome\",\n",
    "        \"ApplicantIncome\",\n",
    "        \"LoanAmount\",\n",
    "        \"Credit_History\",\n",
    "        \"Married\",\n",
    "        \"Education\",\n",
    "        \"Property_Area\"\n",
    "    ]\n",
    "]"
   ]
  },
  {
   "cell_type": "code",
   "execution_count": 33,
   "id": "76400b1a",
   "metadata": {},
   "outputs": [
    {
     "data": {
      "text/html": [
       "<div>\n",
       "<style scoped>\n",
       "    .dataframe tbody tr th:only-of-type {\n",
       "        vertical-align: middle;\n",
       "    }\n",
       "\n",
       "    .dataframe tbody tr th {\n",
       "        vertical-align: top;\n",
       "    }\n",
       "\n",
       "    .dataframe thead th {\n",
       "        text-align: right;\n",
       "    }\n",
       "</style>\n",
       "<table border=\"1\" class=\"dataframe\">\n",
       "  <thead>\n",
       "    <tr style=\"text-align: right;\">\n",
       "      <th></th>\n",
       "      <th>CoapplicantIncome</th>\n",
       "      <th>ApplicantIncome</th>\n",
       "      <th>LoanAmount</th>\n",
       "      <th>Credit_History</th>\n",
       "      <th>Married</th>\n",
       "      <th>Education</th>\n",
       "      <th>Property_Area</th>\n",
       "    </tr>\n",
       "  </thead>\n",
       "  <tbody>\n",
       "    <tr>\n",
       "      <th>0</th>\n",
       "      <td>0.0</td>\n",
       "      <td>5849.000</td>\n",
       "      <td>146.412</td>\n",
       "      <td>1.0</td>\n",
       "      <td>No</td>\n",
       "      <td>Graduate</td>\n",
       "      <td>Urban</td>\n",
       "    </tr>\n",
       "    <tr>\n",
       "      <th>1</th>\n",
       "      <td>1508.0</td>\n",
       "      <td>5405.541</td>\n",
       "      <td>128.000</td>\n",
       "      <td>1.0</td>\n",
       "      <td>Yes</td>\n",
       "      <td>Graduate</td>\n",
       "      <td>Rural</td>\n",
       "    </tr>\n",
       "    <tr>\n",
       "      <th>2</th>\n",
       "      <td>0.0</td>\n",
       "      <td>3000.000</td>\n",
       "      <td>66.000</td>\n",
       "      <td>1.0</td>\n",
       "      <td>Yes</td>\n",
       "      <td>Graduate</td>\n",
       "      <td>Urban</td>\n",
       "    </tr>\n",
       "    <tr>\n",
       "      <th>3</th>\n",
       "      <td>2358.0</td>\n",
       "      <td>2583.000</td>\n",
       "      <td>120.000</td>\n",
       "      <td>1.0</td>\n",
       "      <td>Yes</td>\n",
       "      <td>Not Graduate</td>\n",
       "      <td>Urban</td>\n",
       "    </tr>\n",
       "    <tr>\n",
       "      <th>4</th>\n",
       "      <td>0.0</td>\n",
       "      <td>6000.000</td>\n",
       "      <td>141.000</td>\n",
       "      <td>1.0</td>\n",
       "      <td>No</td>\n",
       "      <td>Graduate</td>\n",
       "      <td>Urban</td>\n",
       "    </tr>\n",
       "  </tbody>\n",
       "</table>\n",
       "</div>"
      ],
      "text/plain": [
       "   CoapplicantIncome  ApplicantIncome  LoanAmount  Credit_History Married  \\\n",
       "0                0.0         5849.000     146.412             1.0      No   \n",
       "1             1508.0         5405.541     128.000             1.0     Yes   \n",
       "2                0.0         3000.000      66.000             1.0     Yes   \n",
       "3             2358.0         2583.000     120.000             1.0     Yes   \n",
       "4                0.0         6000.000     141.000             1.0      No   \n",
       "\n",
       "      Education Property_Area  \n",
       "0      Graduate         Urban  \n",
       "1      Graduate         Rural  \n",
       "2      Graduate         Urban  \n",
       "3  Not Graduate         Urban  \n",
       "4      Graduate         Urban  "
      ]
     },
     "execution_count": 33,
     "metadata": {},
     "output_type": "execute_result"
    }
   ],
   "source": [
    "X.head()"
   ]
  },
  {
   "cell_type": "code",
   "execution_count": 34,
   "id": "69755fae",
   "metadata": {},
   "outputs": [
    {
     "data": {
      "text/html": [
       "<div>\n",
       "<style scoped>\n",
       "    .dataframe tbody tr th:only-of-type {\n",
       "        vertical-align: middle;\n",
       "    }\n",
       "\n",
       "    .dataframe tbody tr th {\n",
       "        vertical-align: top;\n",
       "    }\n",
       "\n",
       "    .dataframe thead th {\n",
       "        text-align: right;\n",
       "    }\n",
       "</style>\n",
       "<table border=\"1\" class=\"dataframe\">\n",
       "  <thead>\n",
       "    <tr style=\"text-align: right;\">\n",
       "      <th></th>\n",
       "      <th>Loan_Status</th>\n",
       "    </tr>\n",
       "  </thead>\n",
       "  <tbody>\n",
       "    <tr>\n",
       "      <th>0</th>\n",
       "      <td>Y</td>\n",
       "    </tr>\n",
       "    <tr>\n",
       "      <th>1</th>\n",
       "      <td>N</td>\n",
       "    </tr>\n",
       "    <tr>\n",
       "      <th>2</th>\n",
       "      <td>Y</td>\n",
       "    </tr>\n",
       "    <tr>\n",
       "      <th>3</th>\n",
       "      <td>Y</td>\n",
       "    </tr>\n",
       "    <tr>\n",
       "      <th>4</th>\n",
       "      <td>Y</td>\n",
       "    </tr>\n",
       "  </tbody>\n",
       "</table>\n",
       "</div>"
      ],
      "text/plain": [
       "  Loan_Status\n",
       "0           Y\n",
       "1           N\n",
       "2           Y\n",
       "3           Y\n",
       "4           Y"
      ]
     },
     "execution_count": 34,
     "metadata": {},
     "output_type": "execute_result"
    }
   ],
   "source": [
    "Y.head()"
   ]
  },
  {
   "cell_type": "code",
   "execution_count": 35,
   "id": "e851fb37",
   "metadata": {},
   "outputs": [],
   "source": [
    "# updating cat[] and con[]\n",
    "cat = []\n",
    "con = []\n",
    "\n",
    "for i in X.columns:\n",
    "    if(X[i].dtypes == \"object\"):\n",
    "        cat.append(i)\n",
    "    else:\n",
    "        con.append(i)"
   ]
  },
  {
   "cell_type": "code",
   "execution_count": 36,
   "id": "91cf1c1c",
   "metadata": {},
   "outputs": [
    {
     "name": "stdout",
     "output_type": "stream",
     "text": [
      "['Married', 'Education', 'Property_Area']\n"
     ]
    }
   ],
   "source": [
    "print(cat)"
   ]
  },
  {
   "cell_type": "code",
   "execution_count": 37,
   "id": "c5fb0fec",
   "metadata": {},
   "outputs": [
    {
     "name": "stdout",
     "output_type": "stream",
     "text": [
      "['CoapplicantIncome', 'ApplicantIncome', 'LoanAmount', 'Credit_History']\n"
     ]
    }
   ],
   "source": [
    "print(con)"
   ]
  },
  {
   "cell_type": "markdown",
   "id": "39594ff0",
   "metadata": {},
   "source": [
    "## Preprocessing"
   ]
  },
  {
   "cell_type": "markdown",
   "id": "49a4c844",
   "metadata": {},
   "source": [
    "### Standardizing continous features"
   ]
  },
  {
   "cell_type": "code",
   "execution_count": 38,
   "id": "88ccd026",
   "metadata": {},
   "outputs": [],
   "source": [
    "from sklearn.preprocessing import MinMaxScaler\n",
    "mm = MinMaxScaler()\n",
    "X1 = pd.DataFrame(mm.fit_transform(X[con]), columns=con)"
   ]
  },
  {
   "cell_type": "code",
   "execution_count": 39,
   "id": "a270de11",
   "metadata": {},
   "outputs": [
    {
     "data": {
      "text/html": [
       "<div>\n",
       "<style scoped>\n",
       "    .dataframe tbody tr th:only-of-type {\n",
       "        vertical-align: middle;\n",
       "    }\n",
       "\n",
       "    .dataframe tbody tr th {\n",
       "        vertical-align: top;\n",
       "    }\n",
       "\n",
       "    .dataframe thead th {\n",
       "        text-align: right;\n",
       "    }\n",
       "</style>\n",
       "<table border=\"1\" class=\"dataframe\">\n",
       "  <thead>\n",
       "    <tr style=\"text-align: right;\">\n",
       "      <th></th>\n",
       "      <th>CoapplicantIncome</th>\n",
       "      <th>ApplicantIncome</th>\n",
       "      <th>LoanAmount</th>\n",
       "      <th>Credit_History</th>\n",
       "    </tr>\n",
       "  </thead>\n",
       "  <tbody>\n",
       "    <tr>\n",
       "      <th>0</th>\n",
       "      <td>0.000000</td>\n",
       "      <td>0.277770</td>\n",
       "      <td>0.370383</td>\n",
       "      <td>1.0</td>\n",
       "    </tr>\n",
       "    <tr>\n",
       "      <th>1</th>\n",
       "      <td>0.167929</td>\n",
       "      <td>0.256155</td>\n",
       "      <td>0.320755</td>\n",
       "      <td>1.0</td>\n",
       "    </tr>\n",
       "    <tr>\n",
       "      <th>2</th>\n",
       "      <td>0.000000</td>\n",
       "      <td>0.138909</td>\n",
       "      <td>0.153639</td>\n",
       "      <td>1.0</td>\n",
       "    </tr>\n",
       "    <tr>\n",
       "      <th>3</th>\n",
       "      <td>0.262584</td>\n",
       "      <td>0.118585</td>\n",
       "      <td>0.299191</td>\n",
       "      <td>1.0</td>\n",
       "    </tr>\n",
       "    <tr>\n",
       "      <th>4</th>\n",
       "      <td>0.000000</td>\n",
       "      <td>0.285129</td>\n",
       "      <td>0.355795</td>\n",
       "      <td>1.0</td>\n",
       "    </tr>\n",
       "  </tbody>\n",
       "</table>\n",
       "</div>"
      ],
      "text/plain": [
       "   CoapplicantIncome  ApplicantIncome  LoanAmount  Credit_History\n",
       "0           0.000000         0.277770    0.370383             1.0\n",
       "1           0.167929         0.256155    0.320755             1.0\n",
       "2           0.000000         0.138909    0.153639             1.0\n",
       "3           0.262584         0.118585    0.299191             1.0\n",
       "4           0.000000         0.285129    0.355795             1.0"
      ]
     },
     "execution_count": 39,
     "metadata": {},
     "output_type": "execute_result"
    }
   ],
   "source": [
    "X1.head()"
   ]
  },
  {
   "cell_type": "markdown",
   "id": "d423357d",
   "metadata": {},
   "source": [
    "### Encoding categorical features"
   ]
  },
  {
   "cell_type": "code",
   "execution_count": 40,
   "id": "a88d6b59",
   "metadata": {},
   "outputs": [],
   "source": [
    "X2 = pd.get_dummies(X[cat])"
   ]
  },
  {
   "cell_type": "code",
   "execution_count": 41,
   "id": "52e3814b",
   "metadata": {},
   "outputs": [
    {
     "data": {
      "text/html": [
       "<div>\n",
       "<style scoped>\n",
       "    .dataframe tbody tr th:only-of-type {\n",
       "        vertical-align: middle;\n",
       "    }\n",
       "\n",
       "    .dataframe tbody tr th {\n",
       "        vertical-align: top;\n",
       "    }\n",
       "\n",
       "    .dataframe thead th {\n",
       "        text-align: right;\n",
       "    }\n",
       "</style>\n",
       "<table border=\"1\" class=\"dataframe\">\n",
       "  <thead>\n",
       "    <tr style=\"text-align: right;\">\n",
       "      <th></th>\n",
       "      <th>Married_No</th>\n",
       "      <th>Married_Yes</th>\n",
       "      <th>Education_Graduate</th>\n",
       "      <th>Education_Not Graduate</th>\n",
       "      <th>Property_Area_Rural</th>\n",
       "      <th>Property_Area_Semiurban</th>\n",
       "      <th>Property_Area_Urban</th>\n",
       "    </tr>\n",
       "  </thead>\n",
       "  <tbody>\n",
       "    <tr>\n",
       "      <th>0</th>\n",
       "      <td>1</td>\n",
       "      <td>0</td>\n",
       "      <td>1</td>\n",
       "      <td>0</td>\n",
       "      <td>0</td>\n",
       "      <td>0</td>\n",
       "      <td>1</td>\n",
       "    </tr>\n",
       "    <tr>\n",
       "      <th>1</th>\n",
       "      <td>0</td>\n",
       "      <td>1</td>\n",
       "      <td>1</td>\n",
       "      <td>0</td>\n",
       "      <td>1</td>\n",
       "      <td>0</td>\n",
       "      <td>0</td>\n",
       "    </tr>\n",
       "    <tr>\n",
       "      <th>2</th>\n",
       "      <td>0</td>\n",
       "      <td>1</td>\n",
       "      <td>1</td>\n",
       "      <td>0</td>\n",
       "      <td>0</td>\n",
       "      <td>0</td>\n",
       "      <td>1</td>\n",
       "    </tr>\n",
       "    <tr>\n",
       "      <th>3</th>\n",
       "      <td>0</td>\n",
       "      <td>1</td>\n",
       "      <td>0</td>\n",
       "      <td>1</td>\n",
       "      <td>0</td>\n",
       "      <td>0</td>\n",
       "      <td>1</td>\n",
       "    </tr>\n",
       "    <tr>\n",
       "      <th>4</th>\n",
       "      <td>1</td>\n",
       "      <td>0</td>\n",
       "      <td>1</td>\n",
       "      <td>0</td>\n",
       "      <td>0</td>\n",
       "      <td>0</td>\n",
       "      <td>1</td>\n",
       "    </tr>\n",
       "  </tbody>\n",
       "</table>\n",
       "</div>"
      ],
      "text/plain": [
       "   Married_No  Married_Yes  Education_Graduate  Education_Not Graduate  \\\n",
       "0           1            0                   1                       0   \n",
       "1           0            1                   1                       0   \n",
       "2           0            1                   1                       0   \n",
       "3           0            1                   0                       1   \n",
       "4           1            0                   1                       0   \n",
       "\n",
       "   Property_Area_Rural  Property_Area_Semiurban  Property_Area_Urban  \n",
       "0                    0                        0                    1  \n",
       "1                    1                        0                    0  \n",
       "2                    0                        0                    1  \n",
       "3                    0                        0                    1  \n",
       "4                    0                        0                    1  "
      ]
     },
     "execution_count": 41,
     "metadata": {},
     "output_type": "execute_result"
    }
   ],
   "source": [
    "X2.head()"
   ]
  },
  {
   "cell_type": "code",
   "execution_count": 42,
   "id": "a72bcd62",
   "metadata": {},
   "outputs": [],
   "source": [
    "Xnew = X1.join(X2)"
   ]
  },
  {
   "cell_type": "code",
   "execution_count": 43,
   "id": "77f02901",
   "metadata": {},
   "outputs": [
    {
     "data": {
      "text/html": [
       "<div>\n",
       "<style scoped>\n",
       "    .dataframe tbody tr th:only-of-type {\n",
       "        vertical-align: middle;\n",
       "    }\n",
       "\n",
       "    .dataframe tbody tr th {\n",
       "        vertical-align: top;\n",
       "    }\n",
       "\n",
       "    .dataframe thead th {\n",
       "        text-align: right;\n",
       "    }\n",
       "</style>\n",
       "<table border=\"1\" class=\"dataframe\">\n",
       "  <thead>\n",
       "    <tr style=\"text-align: right;\">\n",
       "      <th></th>\n",
       "      <th>CoapplicantIncome</th>\n",
       "      <th>ApplicantIncome</th>\n",
       "      <th>LoanAmount</th>\n",
       "      <th>Credit_History</th>\n",
       "      <th>Married_No</th>\n",
       "      <th>Married_Yes</th>\n",
       "      <th>Education_Graduate</th>\n",
       "      <th>Education_Not Graduate</th>\n",
       "      <th>Property_Area_Rural</th>\n",
       "      <th>Property_Area_Semiurban</th>\n",
       "      <th>Property_Area_Urban</th>\n",
       "    </tr>\n",
       "  </thead>\n",
       "  <tbody>\n",
       "    <tr>\n",
       "      <th>0</th>\n",
       "      <td>0.000000</td>\n",
       "      <td>0.277770</td>\n",
       "      <td>0.370383</td>\n",
       "      <td>1.0</td>\n",
       "      <td>1</td>\n",
       "      <td>0</td>\n",
       "      <td>1</td>\n",
       "      <td>0</td>\n",
       "      <td>0</td>\n",
       "      <td>0</td>\n",
       "      <td>1</td>\n",
       "    </tr>\n",
       "    <tr>\n",
       "      <th>1</th>\n",
       "      <td>0.167929</td>\n",
       "      <td>0.256155</td>\n",
       "      <td>0.320755</td>\n",
       "      <td>1.0</td>\n",
       "      <td>0</td>\n",
       "      <td>1</td>\n",
       "      <td>1</td>\n",
       "      <td>0</td>\n",
       "      <td>1</td>\n",
       "      <td>0</td>\n",
       "      <td>0</td>\n",
       "    </tr>\n",
       "    <tr>\n",
       "      <th>2</th>\n",
       "      <td>0.000000</td>\n",
       "      <td>0.138909</td>\n",
       "      <td>0.153639</td>\n",
       "      <td>1.0</td>\n",
       "      <td>0</td>\n",
       "      <td>1</td>\n",
       "      <td>1</td>\n",
       "      <td>0</td>\n",
       "      <td>0</td>\n",
       "      <td>0</td>\n",
       "      <td>1</td>\n",
       "    </tr>\n",
       "    <tr>\n",
       "      <th>3</th>\n",
       "      <td>0.262584</td>\n",
       "      <td>0.118585</td>\n",
       "      <td>0.299191</td>\n",
       "      <td>1.0</td>\n",
       "      <td>0</td>\n",
       "      <td>1</td>\n",
       "      <td>0</td>\n",
       "      <td>1</td>\n",
       "      <td>0</td>\n",
       "      <td>0</td>\n",
       "      <td>1</td>\n",
       "    </tr>\n",
       "    <tr>\n",
       "      <th>4</th>\n",
       "      <td>0.000000</td>\n",
       "      <td>0.285129</td>\n",
       "      <td>0.355795</td>\n",
       "      <td>1.0</td>\n",
       "      <td>1</td>\n",
       "      <td>0</td>\n",
       "      <td>1</td>\n",
       "      <td>0</td>\n",
       "      <td>0</td>\n",
       "      <td>0</td>\n",
       "      <td>1</td>\n",
       "    </tr>\n",
       "  </tbody>\n",
       "</table>\n",
       "</div>"
      ],
      "text/plain": [
       "   CoapplicantIncome  ApplicantIncome  LoanAmount  Credit_History  Married_No  \\\n",
       "0           0.000000         0.277770    0.370383             1.0           1   \n",
       "1           0.167929         0.256155    0.320755             1.0           0   \n",
       "2           0.000000         0.138909    0.153639             1.0           0   \n",
       "3           0.262584         0.118585    0.299191             1.0           0   \n",
       "4           0.000000         0.285129    0.355795             1.0           1   \n",
       "\n",
       "   Married_Yes  Education_Graduate  Education_Not Graduate  \\\n",
       "0            0                   1                       0   \n",
       "1            1                   1                       0   \n",
       "2            1                   1                       0   \n",
       "3            1                   0                       1   \n",
       "4            0                   1                       0   \n",
       "\n",
       "   Property_Area_Rural  Property_Area_Semiurban  Property_Area_Urban  \n",
       "0                    0                        0                    1  \n",
       "1                    1                        0                    0  \n",
       "2                    0                        0                    1  \n",
       "3                    0                        0                    1  \n",
       "4                    0                        0                    1  "
      ]
     },
     "execution_count": 43,
     "metadata": {},
     "output_type": "execute_result"
    }
   ],
   "source": [
    "Xnew.head()"
   ]
  },
  {
   "cell_type": "markdown",
   "id": "e24fecbd",
   "metadata": {},
   "source": [
    "## Splitting the data"
   ]
  },
  {
   "cell_type": "code",
   "execution_count": 44,
   "id": "7258bf6e",
   "metadata": {},
   "outputs": [],
   "source": [
    "from sklearn.model_selection import train_test_split\n",
    "xtrain, xtest, ytrain, ytest = train_test_split(Xnew, Y, test_size=0.2, random_state=21)"
   ]
  },
  {
   "cell_type": "markdown",
   "id": "e34dd577",
   "metadata": {},
   "source": [
    "## Model - Logistic Regression"
   ]
  },
  {
   "cell_type": "code",
   "execution_count": 45,
   "id": "c4e47e70",
   "metadata": {},
   "outputs": [
    {
     "name": "stdout",
     "output_type": "stream",
     "text": [
      "0.8112798264642083 0.8448275862068966\n"
     ]
    }
   ],
   "source": [
    "from sklearn.linear_model import LogisticRegression\n",
    "lr = LogisticRegression()\n",
    "model = lr.fit(xtrain,ytrain)\n",
    "\n",
    "tr_pred = model.predict(xtrain)\n",
    "ts_pred = model.predict(xtest)\n",
    "\n",
    "from sklearn.metrics import accuracy_score\n",
    "tr_acc = accuracy_score(ytrain, tr_pred)\n",
    "ts_acc = accuracy_score(ytest, ts_pred)\n",
    "\n",
    "print(tr_acc, ts_acc)"
   ]
  },
  {
   "cell_type": "code",
   "execution_count": 46,
   "id": "fddd0c64",
   "metadata": {},
   "outputs": [],
   "source": [
    "logistric_regression_accuracy = [tr_acc, ts_acc]"
   ]
  },
  {
   "cell_type": "code",
   "execution_count": 47,
   "id": "8132c6f8",
   "metadata": {},
   "outputs": [
    {
     "data": {
      "text/plain": [
       "[0.8112798264642083, 0.8448275862068966]"
      ]
     },
     "execution_count": 47,
     "metadata": {},
     "output_type": "execute_result"
    }
   ],
   "source": [
    "logistric_regression_accuracy #training and testing accuracy"
   ]
  },
  {
   "cell_type": "markdown",
   "id": "06493ada",
   "metadata": {},
   "source": [
    "## Model - KNN"
   ]
  },
  {
   "cell_type": "code",
   "execution_count": 48,
   "id": "caf275ad",
   "metadata": {},
   "outputs": [
    {
     "name": "stdout",
     "output_type": "stream",
     "text": [
      "0.841648590021692 0.7672413793103449\n"
     ]
    }
   ],
   "source": [
    "from sklearn.neighbors import KNeighborsClassifier\n",
    "knr = KNeighborsClassifier(n_neighbors=5)\n",
    "model = knr.fit(xtrain,ytrain)\n",
    "tr_pred = model.predict(xtrain)\n",
    "ts_pred = model.predict(xtest)\n",
    "\n",
    "\n",
    "tr_acc = accuracy_score(ytrain, tr_pred)\n",
    "ts_acc = accuracy_score(ytest, ts_pred)\n",
    "\n",
    "print(tr_acc, ts_acc)"
   ]
  },
  {
   "cell_type": "code",
   "execution_count": 49,
   "id": "f7b5f581",
   "metadata": {},
   "outputs": [
    {
     "data": {
      "text/plain": [
       "{'n_neighbors': 10}"
      ]
     },
     "execution_count": 49,
     "metadata": {},
     "output_type": "execute_result"
    }
   ],
   "source": [
    "#tuning the hyperparamter 'n_neighbors'\n",
    "\n",
    "tuning_grid = {\"n_neighbors\":range(2, 15, 1)}\n",
    "knr = KNeighborsClassifier()\n",
    "\n",
    "from sklearn.model_selection import GridSearchCV\n",
    "cv = GridSearchCV(knr, tuning_grid, scoring = \"accuracy\", cv=8)\n",
    "cvmodel = cv.fit(Xnew,Y)\n",
    "cvmodel.best_params_"
   ]
  },
  {
   "cell_type": "code",
   "execution_count": 50,
   "id": "a7bb23a5",
   "metadata": {},
   "outputs": [
    {
     "name": "stdout",
     "output_type": "stream",
     "text": [
      "0.806941431670282 0.7758620689655172\n"
     ]
    }
   ],
   "source": [
    "knr = KNeighborsClassifier(n_neighbors=10)\n",
    "model = knr.fit(xtrain,ytrain)\n",
    "tr_pred = model.predict(xtrain)\n",
    "ts_pred = model.predict(xtest)\n",
    "\n",
    "\n",
    "tr_acc = accuracy_score(ytrain, tr_pred)\n",
    "ts_acc = accuracy_score(ytest, ts_pred)\n",
    "\n",
    "print(tr_acc, ts_acc)"
   ]
  },
  {
   "cell_type": "code",
   "execution_count": 51,
   "id": "9fa4b5a1",
   "metadata": {},
   "outputs": [],
   "source": [
    "knn_accuracy = [tr_acc, ts_acc]"
   ]
  },
  {
   "cell_type": "code",
   "execution_count": 52,
   "id": "94967f8d",
   "metadata": {},
   "outputs": [
    {
     "data": {
      "text/plain": [
       "[0.806941431670282, 0.7758620689655172]"
      ]
     },
     "execution_count": 52,
     "metadata": {},
     "output_type": "execute_result"
    }
   ],
   "source": [
    "knn_accuracy #training and testing accuracy"
   ]
  },
  {
   "cell_type": "markdown",
   "id": "0cef7c65",
   "metadata": {},
   "source": [
    "## Model - Decision Tree"
   ]
  },
  {
   "cell_type": "markdown",
   "id": "46c13a78",
   "metadata": {},
   "source": [
    "For Decision Tree it is fine if the data is not standardized."
   ]
  },
  {
   "cell_type": "code",
   "execution_count": 53,
   "id": "8afae543",
   "metadata": {},
   "outputs": [],
   "source": [
    "# Define X and Y again\n",
    "\n",
    "Y = A[[\"Loan_Status\"]]\n",
    "X = A[\n",
    "    [\n",
    "        \"CoapplicantIncome\",\n",
    "        \"ApplicantIncome\",\n",
    "        \"LoanAmount\",\n",
    "        \"Credit_History\",\n",
    "        \"Married\",\n",
    "        \"Education\",\n",
    "        \"Property_Area\",\n",
    "    ]\n",
    "]"
   ]
  },
  {
   "cell_type": "code",
   "execution_count": 54,
   "id": "33f3d304",
   "metadata": {},
   "outputs": [],
   "source": [
    "# Encoding categorical features\n",
    "X1 = X[con]\n",
    "X2 = pd.get_dummies(X[cat])"
   ]
  },
  {
   "cell_type": "code",
   "execution_count": 55,
   "id": "25a0b203",
   "metadata": {},
   "outputs": [],
   "source": [
    "Xnew = X1.join(X2)"
   ]
  },
  {
   "cell_type": "code",
   "execution_count": 56,
   "id": "12476902",
   "metadata": {},
   "outputs": [
    {
     "data": {
      "text/html": [
       "<div>\n",
       "<style scoped>\n",
       "    .dataframe tbody tr th:only-of-type {\n",
       "        vertical-align: middle;\n",
       "    }\n",
       "\n",
       "    .dataframe tbody tr th {\n",
       "        vertical-align: top;\n",
       "    }\n",
       "\n",
       "    .dataframe thead th {\n",
       "        text-align: right;\n",
       "    }\n",
       "</style>\n",
       "<table border=\"1\" class=\"dataframe\">\n",
       "  <thead>\n",
       "    <tr style=\"text-align: right;\">\n",
       "      <th></th>\n",
       "      <th>CoapplicantIncome</th>\n",
       "      <th>ApplicantIncome</th>\n",
       "      <th>LoanAmount</th>\n",
       "      <th>Credit_History</th>\n",
       "      <th>Married_No</th>\n",
       "      <th>Married_Yes</th>\n",
       "      <th>Education_Graduate</th>\n",
       "      <th>Education_Not Graduate</th>\n",
       "      <th>Property_Area_Rural</th>\n",
       "      <th>Property_Area_Semiurban</th>\n",
       "      <th>Property_Area_Urban</th>\n",
       "    </tr>\n",
       "  </thead>\n",
       "  <tbody>\n",
       "    <tr>\n",
       "      <th>0</th>\n",
       "      <td>0.0</td>\n",
       "      <td>5849.000</td>\n",
       "      <td>146.412</td>\n",
       "      <td>1.0</td>\n",
       "      <td>1</td>\n",
       "      <td>0</td>\n",
       "      <td>1</td>\n",
       "      <td>0</td>\n",
       "      <td>0</td>\n",
       "      <td>0</td>\n",
       "      <td>1</td>\n",
       "    </tr>\n",
       "    <tr>\n",
       "      <th>1</th>\n",
       "      <td>1508.0</td>\n",
       "      <td>5405.541</td>\n",
       "      <td>128.000</td>\n",
       "      <td>1.0</td>\n",
       "      <td>0</td>\n",
       "      <td>1</td>\n",
       "      <td>1</td>\n",
       "      <td>0</td>\n",
       "      <td>1</td>\n",
       "      <td>0</td>\n",
       "      <td>0</td>\n",
       "    </tr>\n",
       "    <tr>\n",
       "      <th>2</th>\n",
       "      <td>0.0</td>\n",
       "      <td>3000.000</td>\n",
       "      <td>66.000</td>\n",
       "      <td>1.0</td>\n",
       "      <td>0</td>\n",
       "      <td>1</td>\n",
       "      <td>1</td>\n",
       "      <td>0</td>\n",
       "      <td>0</td>\n",
       "      <td>0</td>\n",
       "      <td>1</td>\n",
       "    </tr>\n",
       "    <tr>\n",
       "      <th>3</th>\n",
       "      <td>2358.0</td>\n",
       "      <td>2583.000</td>\n",
       "      <td>120.000</td>\n",
       "      <td>1.0</td>\n",
       "      <td>0</td>\n",
       "      <td>1</td>\n",
       "      <td>0</td>\n",
       "      <td>1</td>\n",
       "      <td>0</td>\n",
       "      <td>0</td>\n",
       "      <td>1</td>\n",
       "    </tr>\n",
       "    <tr>\n",
       "      <th>4</th>\n",
       "      <td>0.0</td>\n",
       "      <td>6000.000</td>\n",
       "      <td>141.000</td>\n",
       "      <td>1.0</td>\n",
       "      <td>1</td>\n",
       "      <td>0</td>\n",
       "      <td>1</td>\n",
       "      <td>0</td>\n",
       "      <td>0</td>\n",
       "      <td>0</td>\n",
       "      <td>1</td>\n",
       "    </tr>\n",
       "  </tbody>\n",
       "</table>\n",
       "</div>"
      ],
      "text/plain": [
       "   CoapplicantIncome  ApplicantIncome  LoanAmount  Credit_History  Married_No  \\\n",
       "0                0.0         5849.000     146.412             1.0           1   \n",
       "1             1508.0         5405.541     128.000             1.0           0   \n",
       "2                0.0         3000.000      66.000             1.0           0   \n",
       "3             2358.0         2583.000     120.000             1.0           0   \n",
       "4                0.0         6000.000     141.000             1.0           1   \n",
       "\n",
       "   Married_Yes  Education_Graduate  Education_Not Graduate  \\\n",
       "0            0                   1                       0   \n",
       "1            1                   1                       0   \n",
       "2            1                   1                       0   \n",
       "3            1                   0                       1   \n",
       "4            0                   1                       0   \n",
       "\n",
       "   Property_Area_Rural  Property_Area_Semiurban  Property_Area_Urban  \n",
       "0                    0                        0                    1  \n",
       "1                    1                        0                    0  \n",
       "2                    0                        0                    1  \n",
       "3                    0                        0                    1  \n",
       "4                    0                        0                    1  "
      ]
     },
     "execution_count": 56,
     "metadata": {},
     "output_type": "execute_result"
    }
   ],
   "source": [
    "Xnew.head()"
   ]
  },
  {
   "cell_type": "code",
   "execution_count": 57,
   "id": "1a683892",
   "metadata": {},
   "outputs": [],
   "source": [
    "# Splitting the data\n",
    "xtrain, xtest, ytrain, ytest = train_test_split(Xnew, Y, test_size=0.2, random_state=21)"
   ]
  },
  {
   "cell_type": "code",
   "execution_count": 58,
   "id": "99c3317d",
   "metadata": {},
   "outputs": [],
   "source": [
    "from sklearn.tree import DecisionTreeClassifier\n",
    "dtc = DecisionTreeClassifier(criterion='entropy', random_state=21)\n",
    "model = dtc.fit(xtrain, ytrain)\n",
    "\n",
    "tr_pred = model.predict(xtrain)\n",
    "ts_pred = model.predict(xtest)"
   ]
  },
  {
   "cell_type": "code",
   "execution_count": 59,
   "id": "7da6b3f8",
   "metadata": {},
   "outputs": [],
   "source": [
    "from sklearn.metrics import accuracy_score\n",
    "tr_acc = accuracy_score(ytrain, tr_pred)\n",
    "ts_acc = accuracy_score(ytest, ts_pred)"
   ]
  },
  {
   "cell_type": "code",
   "execution_count": 60,
   "id": "56ae3685",
   "metadata": {},
   "outputs": [
    {
     "name": "stdout",
     "output_type": "stream",
     "text": [
      "1.0 0.7241379310344828\n"
     ]
    }
   ],
   "source": [
    "print(tr_acc, ts_acc)"
   ]
  },
  {
   "cell_type": "markdown",
   "id": "1e61a8ac",
   "metadata": {},
   "source": [
    "### Post-Pruning"
   ]
  },
  {
   "cell_type": "code",
   "execution_count": 61,
   "id": "4cfb8167",
   "metadata": {},
   "outputs": [
    {
     "data": {
      "text/plain": [
       "{'min_samples_split': 48}"
      ]
     },
     "execution_count": 61,
     "metadata": {},
     "output_type": "execute_result"
    }
   ],
   "source": [
    "# tuning 'min_samples_split'\n",
    "\n",
    "tuning_grid = {\"min_samples_split\":range(2, 50, 1)}\n",
    "dtr = DecisionTreeClassifier(random_state=21)\n",
    "\n",
    "from sklearn.model_selection import GridSearchCV\n",
    "cv = GridSearchCV(dtr, tuning_grid, scoring = \"accuracy\", cv=8)\n",
    "cvmodel = cv.fit(Xnew,Y)\n",
    "cvmodel.best_params_"
   ]
  },
  {
   "cell_type": "code",
   "execution_count": 62,
   "id": "6a60a0e8",
   "metadata": {},
   "outputs": [
    {
     "data": {
      "text/plain": [
       "{'min_samples_leaf': 28}"
      ]
     },
     "execution_count": 62,
     "metadata": {},
     "output_type": "execute_result"
    }
   ],
   "source": [
    "# tuning 'min_samples_split'\n",
    "\n",
    "tuning_grid = {\"min_samples_leaf\":range(2, 40, 1)}\n",
    "dtr = DecisionTreeClassifier(random_state=21)\n",
    "\n",
    "from sklearn.model_selection import GridSearchCV\n",
    "cv = GridSearchCV(dtr, tuning_grid, scoring = \"accuracy\", cv=8)\n",
    "cvmodel = cv.fit(Xnew,Y)\n",
    "cvmodel.best_params_"
   ]
  },
  {
   "cell_type": "code",
   "execution_count": 63,
   "id": "133d8331",
   "metadata": {},
   "outputs": [
    {
     "data": {
      "text/plain": [
       "{'max_depth': 2}"
      ]
     },
     "execution_count": 63,
     "metadata": {},
     "output_type": "execute_result"
    }
   ],
   "source": [
    "tuning_grid = {\"max_depth\":range(2, 10, 1)}\n",
    "dtr = DecisionTreeClassifier(random_state=21)\n",
    "\n",
    "from sklearn.model_selection import GridSearchCV\n",
    "cv = GridSearchCV(dtr, tuning_grid, scoring = \"accuracy\", cv=8)\n",
    "cvmodel = cv.fit(Xnew,Y)\n",
    "cvmodel.best_params_"
   ]
  },
  {
   "cell_type": "markdown",
   "id": "de2f235f",
   "metadata": {},
   "source": [
    "### Decision Tree model after post-pruning"
   ]
  },
  {
   "cell_type": "code",
   "execution_count": 64,
   "id": "8af11f69",
   "metadata": {},
   "outputs": [
    {
     "name": "stdout",
     "output_type": "stream",
     "text": [
      "0.8546637744034707 0.7931034482758621\n"
     ]
    }
   ],
   "source": [
    "dtc = DecisionTreeClassifier(criterion='entropy', min_samples_split=42, random_state=21)\n",
    "model = dtc.fit(xtrain, ytrain)\n",
    "tr_pred = model.predict(xtrain)\n",
    "ts_pred = model.predict(xtest)\n",
    "\n",
    "tr_acc = accuracy_score(ytrain, tr_pred)\n",
    "ts_acc = accuracy_score(ytest, ts_pred)\n",
    "\n",
    "print(tr_acc, ts_acc)"
   ]
  },
  {
   "cell_type": "code",
   "execution_count": 65,
   "id": "c9835812",
   "metadata": {},
   "outputs": [
    {
     "name": "stdout",
     "output_type": "stream",
     "text": [
      "0.8112798264642083 0.8448275862068966\n"
     ]
    }
   ],
   "source": [
    "dtc = DecisionTreeClassifier(criterion='entropy', min_samples_leaf=33, random_state=21)\n",
    "model = dtc.fit(xtrain, ytrain)\n",
    "tr_pred = model.predict(xtrain)\n",
    "ts_pred = model.predict(xtest)\n",
    "\n",
    "tr_acc = accuracy_score(ytrain, tr_pred)\n",
    "ts_acc = accuracy_score(ytest, ts_pred)\n",
    "\n",
    "print(tr_acc, ts_acc)"
   ]
  },
  {
   "cell_type": "code",
   "execution_count": 66,
   "id": "85b90936",
   "metadata": {},
   "outputs": [
    {
     "name": "stdout",
     "output_type": "stream",
     "text": [
      "0.8134490238611713 0.8362068965517241\n"
     ]
    }
   ],
   "source": [
    "dtc = DecisionTreeClassifier(criterion='entropy', max_depth=2, random_state=21)\n",
    "model = dtc.fit(xtrain, ytrain)\n",
    "tr_pred = model.predict(xtrain)\n",
    "ts_pred = model.predict(xtest)\n",
    "\n",
    "tr_acc = accuracy_score(ytrain, tr_pred)\n",
    "ts_acc = accuracy_score(ytest, ts_pred)\n",
    "\n",
    "print(tr_acc, ts_acc)"
   ]
  },
  {
   "cell_type": "markdown",
   "id": "ddd5b6eb",
   "metadata": {},
   "source": [
    "The DT model with the hyperparameter 'min_samples_leaf' equal to 44 performs the best."
   ]
  },
  {
   "cell_type": "code",
   "execution_count": 67,
   "id": "5b85fc25",
   "metadata": {},
   "outputs": [],
   "source": [
    "tree_accuracy = [tr_acc, ts_acc] "
   ]
  },
  {
   "cell_type": "code",
   "execution_count": 68,
   "id": "58d169b9",
   "metadata": {},
   "outputs": [
    {
     "data": {
      "text/plain": [
       "[0.8134490238611713, 0.8362068965517241]"
      ]
     },
     "execution_count": 68,
     "metadata": {},
     "output_type": "execute_result"
    }
   ],
   "source": [
    "tree_accuracy #training and testing accuracy"
   ]
  },
  {
   "cell_type": "markdown",
   "id": "ccd7633d",
   "metadata": {},
   "source": [
    "## Model - Random Forest"
   ]
  },
  {
   "cell_type": "code",
   "execution_count": 69,
   "id": "69d369f8",
   "metadata": {},
   "outputs": [
    {
     "name": "stdout",
     "output_type": "stream",
     "text": [
      "1.0 0.7931034482758621\n"
     ]
    }
   ],
   "source": [
    "from sklearn.ensemble import RandomForestClassifier\n",
    "rfr = RandomForestClassifier(n_estimators=500, random_state=21)\n",
    "model = rfr.fit(xtrain,ytrain)\n",
    "\n",
    "tr_pred = model.predict(xtrain)\n",
    "ts_pred = model.predict(xtest)\n",
    "\n",
    "tr_acc = accuracy_score(ytrain,tr_pred)\n",
    "ts_acc  = accuracy_score(ytest,ts_pred)\n",
    "\n",
    "print(tr_acc, ts_acc)"
   ]
  },
  {
   "cell_type": "markdown",
   "id": "84a1f7e2",
   "metadata": {},
   "source": [
    "Overfitting observed in model. Using Post-Pruning techniques to reduce generalization error."
   ]
  },
  {
   "cell_type": "code",
   "execution_count": 70,
   "id": "d9dcfafb",
   "metadata": {},
   "outputs": [
    {
     "data": {
      "text/plain": [
       "{'max_depth': 5, 'n_estimators': 82}"
      ]
     },
     "execution_count": 70,
     "metadata": {},
     "output_type": "execute_result"
    }
   ],
   "source": [
    "# GridSearch CV for hyperparameter tuning\n",
    "tg = {\"max_depth\":range(2,10,1),\"n_estimators\":range(2,100,10)}\n",
    "rfc = RandomForestClassifier(random_state=21)\n",
    "from sklearn.model_selection import GridSearchCV\n",
    "cv = GridSearchCV(rfc,tg,scoring = \"accuracy\",cv=4)\n",
    "cvmodel = cv.fit(Xnew,Y)\n",
    "cvmodel.best_params_"
   ]
  },
  {
   "cell_type": "code",
   "execution_count": 71,
   "id": "cb1a1d5e",
   "metadata": {},
   "outputs": [
    {
     "name": "stdout",
     "output_type": "stream",
     "text": [
      "0.8134490238611713 0.8448275862068966\n"
     ]
    }
   ],
   "source": [
    "rfr = RandomForestClassifier(n_estimators=12, max_depth=3, random_state=21)\n",
    "model = rfr.fit(xtrain,ytrain)\n",
    "\n",
    "tr_pred = model.predict(xtrain)\n",
    "ts_pred = model.predict(xtest)\n",
    "\n",
    "tr_acc = accuracy_score(ytrain,tr_pred)\n",
    "ts_acc  = accuracy_score(ytest,ts_pred)\n",
    "\n",
    "print(tr_acc, ts_acc)"
   ]
  },
  {
   "cell_type": "code",
   "execution_count": 72,
   "id": "0738c6ef",
   "metadata": {},
   "outputs": [],
   "source": [
    "random_forest_accuracy = [tr_acc, ts_acc]"
   ]
  },
  {
   "cell_type": "code",
   "execution_count": 73,
   "id": "38f83b32",
   "metadata": {},
   "outputs": [
    {
     "data": {
      "text/plain": [
       "[0.8134490238611713, 0.8448275862068966]"
      ]
     },
     "execution_count": 73,
     "metadata": {},
     "output_type": "execute_result"
    }
   ],
   "source": [
    "random_forest_accuracy #training and testing accuracy"
   ]
  },
  {
   "cell_type": "markdown",
   "id": "9a392ada",
   "metadata": {},
   "source": [
    "## Model - AdaBoost"
   ]
  },
  {
   "cell_type": "code",
   "execution_count": 74,
   "id": "7314fc25",
   "metadata": {},
   "outputs": [
    {
     "name": "stdout",
     "output_type": "stream",
     "text": [
      "1.0 0.7068965517241379\n"
     ]
    }
   ],
   "source": [
    "from sklearn.ensemble import AdaBoostClassifier\n",
    "\n",
    "dtc = DecisionTreeClassifier(random_state=21, max_depth=2)\n",
    "abc = AdaBoostClassifier(dtc, n_estimators=100)\n",
    "model = abc.fit(xtrain,ytrain)\n",
    "\n",
    "tr_pred = model.predict(xtrain)\n",
    "ts_pred = model.predict(xtest)\n",
    "\n",
    "tr_acc = accuracy_score(ytrain,tr_pred)\n",
    "ts_acc  = accuracy_score(ytest,ts_pred)\n",
    "\n",
    "print(tr_acc,ts_acc)"
   ]
  },
  {
   "cell_type": "markdown",
   "id": "9e9b5725",
   "metadata": {},
   "source": [
    "Overfitting observed. Using GridSearch CV to find best hyperparameters."
   ]
  },
  {
   "cell_type": "code",
   "execution_count": 75,
   "id": "00922933",
   "metadata": {},
   "outputs": [
    {
     "data": {
      "text/plain": [
       "{'n_estimators': 2}"
      ]
     },
     "execution_count": 75,
     "metadata": {},
     "output_type": "execute_result"
    }
   ],
   "source": [
    "tg = {\"n_estimators\":range(2,200,10)}\n",
    "\n",
    "dtc = DecisionTreeClassifier(random_state=21, max_depth=2)\n",
    "abc = AdaBoostClassifier(dtc)\n",
    "\n",
    "from sklearn.model_selection import GridSearchCV\n",
    "cv = GridSearchCV(abc,tg,scoring = \"accuracy\",cv=8)\n",
    "cvmodel = cv.fit(Xnew,Y)\n",
    "cvmodel.best_params_"
   ]
  },
  {
   "cell_type": "code",
   "execution_count": 76,
   "id": "ac385f83",
   "metadata": {},
   "outputs": [
    {
     "name": "stdout",
     "output_type": "stream",
     "text": [
      "0.8177874186550976 0.8275862068965517\n"
     ]
    }
   ],
   "source": [
    "#AdaBoost model with tuned hypeparameters\n",
    "\n",
    "dtc = DecisionTreeClassifier(random_state=21, max_depth=2)\n",
    "abc = AdaBoostClassifier(dtc,n_estimators=2)\n",
    "model = abc.fit(xtrain,ytrain)\n",
    "\n",
    "tr_pred = model.predict(xtrain)\n",
    "ts_pred = model.predict(xtest)\n",
    "\n",
    "tr_acc = accuracy_score(ytrain,tr_pred)\n",
    "ts_acc  = accuracy_score(ytest,ts_pred)\n",
    "\n",
    "print(tr_acc,ts_acc)"
   ]
  },
  {
   "cell_type": "code",
   "execution_count": 77,
   "id": "049d0faf",
   "metadata": {},
   "outputs": [
    {
     "data": {
      "text/plain": [
       "0.8177874186550976"
      ]
     },
     "execution_count": 77,
     "metadata": {},
     "output_type": "execute_result"
    }
   ],
   "source": [
    "tr_acc"
   ]
  },
  {
   "cell_type": "code",
   "execution_count": 78,
   "id": "577bed68",
   "metadata": {},
   "outputs": [],
   "source": [
    "adaboost_accuracy = [tr_acc, ts_acc] "
   ]
  },
  {
   "cell_type": "code",
   "execution_count": 79,
   "id": "0306817d",
   "metadata": {},
   "outputs": [
    {
     "data": {
      "text/plain": [
       "[0.8177874186550976, 0.8275862068965517]"
      ]
     },
     "execution_count": 79,
     "metadata": {},
     "output_type": "execute_result"
    }
   ],
   "source": [
    "adaboost_accuracy #training and testing"
   ]
  },
  {
   "cell_type": "markdown",
   "id": "fe51ef88",
   "metadata": {},
   "source": [
    "## Model Evaluations"
   ]
  },
  {
   "cell_type": "code",
   "execution_count": 80,
   "id": "6ff540bb",
   "metadata": {},
   "outputs": [
    {
     "name": "stdout",
     "output_type": "stream",
     "text": [
      "Logistic Regression [0.8112798264642083, 0.8448275862068966]\n",
      "KNN [0.806941431670282, 0.7758620689655172]\n",
      "Decision Tree [0.8134490238611713, 0.8362068965517241]\n",
      "Random Forest [0.8134490238611713, 0.8448275862068966]\n",
      "AdaBoost: [0.8177874186550976, 0.8275862068965517]\n"
     ]
    }
   ],
   "source": [
    "print(\"Logistic Regression\", logistric_regression_accuracy)\n",
    "print(\"KNN\", knn_accuracy)\n",
    "print(\"Decision Tree\", tree_accuracy)\n",
    "print(\"Random Forest\", random_forest_accuracy)\n",
    "print(\"AdaBoost:\", adaboost_accuracy)"
   ]
  },
  {
   "cell_type": "markdown",
   "id": "9c39c725",
   "metadata": {},
   "source": [
    "From above observations we can conclude that Decsion Tree, Random Forest, AdaBoost and Logistic Regression are performing more or less similar to each other. Therefore it won't make much of differnce if you pick any of the mentioned model."
   ]
  },
  {
   "cell_type": "markdown",
   "id": "77de8e57",
   "metadata": {},
   "source": [
    "## Final Model - AdaBoost for 'Loan_Status'"
   ]
  },
  {
   "cell_type": "code",
   "execution_count": 81,
   "id": "cebdcb0a",
   "metadata": {},
   "outputs": [],
   "source": [
    "dtc = DecisionTreeClassifier(random_state=21, max_depth=2)\n",
    "abc = AdaBoostClassifier(dtc,n_estimators=2)\n",
    "loanStatus_model = abc.fit(Xnew, Y)"
   ]
  },
  {
   "cell_type": "code",
   "execution_count": 82,
   "id": "60222acc",
   "metadata": {},
   "outputs": [],
   "source": [
    "import pickle as pkl\n",
    "pkl.dump(loanStatus_model, open(\"loanStatus_model.pkl\",\"wb\"))"
   ]
  },
  {
   "cell_type": "markdown",
   "id": "78e4e8b2",
   "metadata": {},
   "source": [
    "## Problem Statement 2 - LoanAmount"
   ]
  },
  {
   "cell_type": "code",
   "execution_count": 83,
   "id": "3245f2f0",
   "metadata": {},
   "outputs": [
    {
     "data": {
      "text/html": [
       "<div>\n",
       "<style scoped>\n",
       "    .dataframe tbody tr th:only-of-type {\n",
       "        vertical-align: middle;\n",
       "    }\n",
       "\n",
       "    .dataframe tbody tr th {\n",
       "        vertical-align: top;\n",
       "    }\n",
       "\n",
       "    .dataframe thead th {\n",
       "        text-align: right;\n",
       "    }\n",
       "</style>\n",
       "<table border=\"1\" class=\"dataframe\">\n",
       "  <thead>\n",
       "    <tr style=\"text-align: right;\">\n",
       "      <th></th>\n",
       "      <th>Gender</th>\n",
       "      <th>Married</th>\n",
       "      <th>Dependents</th>\n",
       "      <th>Education</th>\n",
       "      <th>Self_Employed</th>\n",
       "      <th>ApplicantIncome</th>\n",
       "      <th>CoapplicantIncome</th>\n",
       "      <th>LoanAmount</th>\n",
       "      <th>Loan_Amount_Term</th>\n",
       "      <th>Credit_History</th>\n",
       "      <th>Property_Area</th>\n",
       "      <th>Loan_Status</th>\n",
       "    </tr>\n",
       "  </thead>\n",
       "  <tbody>\n",
       "    <tr>\n",
       "      <th>0</th>\n",
       "      <td>Male</td>\n",
       "      <td>No</td>\n",
       "      <td>0</td>\n",
       "      <td>Graduate</td>\n",
       "      <td>No</td>\n",
       "      <td>5849.000</td>\n",
       "      <td>0.0</td>\n",
       "      <td>146.412</td>\n",
       "      <td>360.0</td>\n",
       "      <td>1.0</td>\n",
       "      <td>Urban</td>\n",
       "      <td>Y</td>\n",
       "    </tr>\n",
       "    <tr>\n",
       "      <th>1</th>\n",
       "      <td>Male</td>\n",
       "      <td>Yes</td>\n",
       "      <td>1</td>\n",
       "      <td>Graduate</td>\n",
       "      <td>No</td>\n",
       "      <td>5405.541</td>\n",
       "      <td>1508.0</td>\n",
       "      <td>128.000</td>\n",
       "      <td>360.0</td>\n",
       "      <td>1.0</td>\n",
       "      <td>Rural</td>\n",
       "      <td>N</td>\n",
       "    </tr>\n",
       "    <tr>\n",
       "      <th>2</th>\n",
       "      <td>Male</td>\n",
       "      <td>Yes</td>\n",
       "      <td>0</td>\n",
       "      <td>Graduate</td>\n",
       "      <td>Yes</td>\n",
       "      <td>3000.000</td>\n",
       "      <td>0.0</td>\n",
       "      <td>66.000</td>\n",
       "      <td>360.0</td>\n",
       "      <td>1.0</td>\n",
       "      <td>Urban</td>\n",
       "      <td>Y</td>\n",
       "    </tr>\n",
       "    <tr>\n",
       "      <th>3</th>\n",
       "      <td>Male</td>\n",
       "      <td>Yes</td>\n",
       "      <td>0</td>\n",
       "      <td>Not Graduate</td>\n",
       "      <td>No</td>\n",
       "      <td>2583.000</td>\n",
       "      <td>2358.0</td>\n",
       "      <td>120.000</td>\n",
       "      <td>360.0</td>\n",
       "      <td>1.0</td>\n",
       "      <td>Urban</td>\n",
       "      <td>Y</td>\n",
       "    </tr>\n",
       "    <tr>\n",
       "      <th>4</th>\n",
       "      <td>Male</td>\n",
       "      <td>No</td>\n",
       "      <td>0</td>\n",
       "      <td>Graduate</td>\n",
       "      <td>No</td>\n",
       "      <td>6000.000</td>\n",
       "      <td>0.0</td>\n",
       "      <td>141.000</td>\n",
       "      <td>360.0</td>\n",
       "      <td>1.0</td>\n",
       "      <td>Urban</td>\n",
       "      <td>Y</td>\n",
       "    </tr>\n",
       "  </tbody>\n",
       "</table>\n",
       "</div>"
      ],
      "text/plain": [
       "  Gender Married Dependents     Education Self_Employed  ApplicantIncome  \\\n",
       "0   Male      No          0      Graduate            No         5849.000   \n",
       "1   Male     Yes          1      Graduate            No         5405.541   \n",
       "2   Male     Yes          0      Graduate           Yes         3000.000   \n",
       "3   Male     Yes          0  Not Graduate            No         2583.000   \n",
       "4   Male      No          0      Graduate            No         6000.000   \n",
       "\n",
       "   CoapplicantIncome  LoanAmount  Loan_Amount_Term  Credit_History  \\\n",
       "0                0.0     146.412             360.0             1.0   \n",
       "1             1508.0     128.000             360.0             1.0   \n",
       "2                0.0      66.000             360.0             1.0   \n",
       "3             2358.0     120.000             360.0             1.0   \n",
       "4                0.0     141.000             360.0             1.0   \n",
       "\n",
       "  Property_Area Loan_Status  \n",
       "0         Urban           Y  \n",
       "1         Rural           N  \n",
       "2         Urban           Y  \n",
       "3         Urban           Y  \n",
       "4         Urban           Y  "
      ]
     },
     "execution_count": 83,
     "metadata": {},
     "output_type": "execute_result"
    }
   ],
   "source": [
    "A.head()"
   ]
  },
  {
   "cell_type": "markdown",
   "id": "b0b6113e",
   "metadata": {},
   "source": [
    "## Exploratory Data Analysis"
   ]
  },
  {
   "cell_type": "markdown",
   "id": "c5b3f550",
   "metadata": {},
   "source": [
    "### Continous features analysis - Correlation"
   ]
  },
  {
   "cell_type": "code",
   "execution_count": 84,
   "id": "bbca095d",
   "metadata": {},
   "outputs": [],
   "source": [
    "P = A.corr()['LoanAmount'].sort_values()\n",
    "P = P[P!=1]\n",
    "P = P[(P>0.3) | (P<-0.3)]"
   ]
  },
  {
   "cell_type": "code",
   "execution_count": 85,
   "id": "b6232d43",
   "metadata": {},
   "outputs": [
    {
     "data": {
      "text/plain": [
       "CoapplicantIncome    0.309603\n",
       "ApplicantIncome      0.442229\n",
       "Name: LoanAmount, dtype: float64"
      ]
     },
     "execution_count": 85,
     "metadata": {},
     "output_type": "execute_result"
    }
   ],
   "source": [
    "P"
   ]
  },
  {
   "cell_type": "markdown",
   "id": "b6b47a27",
   "metadata": {},
   "source": [
    "From Correlation we can conclude 'CoapplicantIncome', 'ApplicantIncome' are good continous predictors for 'LoanAmount'."
   ]
  },
  {
   "cell_type": "markdown",
   "id": "ffb74f78",
   "metadata": {},
   "source": [
    "### Categorical features analysis - ANOVA"
   ]
  },
  {
   "cell_type": "code",
   "execution_count": 86,
   "id": "844128c5",
   "metadata": {},
   "outputs": [],
   "source": [
    "#updating cat[], con[] list\n",
    "cat = []\n",
    "con = []\n",
    "\n",
    "for i in A.columns:\n",
    "    if(A[i].dtypes == \"object\"):\n",
    "        cat.append(i)\n",
    "    else:\n",
    "        con.append(i)"
   ]
  },
  {
   "cell_type": "code",
   "execution_count": 87,
   "id": "2cc0141e",
   "metadata": {},
   "outputs": [
    {
     "name": "stdout",
     "output_type": "stream",
     "text": [
      "['Gender', 'Married', 'Dependents', 'Education', 'Self_Employed', 'Property_Area', 'Loan_Status']\n"
     ]
    }
   ],
   "source": [
    "print(cat)"
   ]
  },
  {
   "cell_type": "code",
   "execution_count": 88,
   "id": "4c18e78d",
   "metadata": {},
   "outputs": [
    {
     "name": "stdout",
     "output_type": "stream",
     "text": [
      "['ApplicantIncome', 'CoapplicantIncome', 'LoanAmount', 'Loan_Amount_Term', 'Credit_History']\n"
     ]
    }
   ],
   "source": [
    "print(con)"
   ]
  },
  {
   "cell_type": "code",
   "execution_count": 89,
   "id": "e6e461ce",
   "metadata": {},
   "outputs": [],
   "source": [
    "anova_pvals = {} #creating a dictionary for p-values from ANOVA\n",
    "for i in cat:\n",
    "    pval = ANOVA(A, \"LoanAmount\", i)\n",
    "    anova_pvals[i] = pval"
   ]
  },
  {
   "cell_type": "code",
   "execution_count": 90,
   "id": "47574789",
   "metadata": {},
   "outputs": [
    {
     "data": {
      "text/plain": [
       "{'Gender': 0.00011393091025986167,\n",
       " 'Married': 6.726604265542053e-05,\n",
       " 'Dependents': 0.008630321795081315,\n",
       " 'Education': 0.0004110644401791326,\n",
       " 'Self_Employed': 0.0033620949207321463,\n",
       " 'Property_Area': 0.19100079376121265,\n",
       " 'Loan_Status': 0.3975038561633506}"
      ]
     },
     "execution_count": 90,
     "metadata": {},
     "output_type": "execute_result"
    }
   ],
   "source": [
    "anova_pvals"
   ]
  },
  {
   "cell_type": "code",
   "execution_count": 91,
   "id": "4f65d075",
   "metadata": {},
   "outputs": [
    {
     "name": "stdout",
     "output_type": "stream",
     "text": [
      "Gender : 0.00011393091025986167\n",
      "Married : 6.726604265542053e-05\n",
      "Dependents : 0.008630321795081315\n",
      "Education : 0.0004110644401791326\n",
      "Self_Employed : 0.0033620949207321463\n"
     ]
    }
   ],
   "source": [
    "#filtering good continous features (having pval less than 0.05)\n",
    "for key, value in anova_pvals.items():\n",
    "    if(value < 0.05):\n",
    "        print(key, \":\", value)"
   ]
  },
  {
   "cell_type": "markdown",
   "id": "3c76b103",
   "metadata": {},
   "source": [
    "From ANOVA we can conclude that 'Married', 'Education', 'Gender', 'Dependents', 'Self_Employed' are good categorical predictors for 'LoanAmount'."
   ]
  },
  {
   "cell_type": "markdown",
   "id": "50767cbe",
   "metadata": {},
   "source": [
    "## Define X and Y"
   ]
  },
  {
   "cell_type": "code",
   "execution_count": 92,
   "id": "e583b5e0",
   "metadata": {},
   "outputs": [],
   "source": [
    "X = A[\n",
    "    [\n",
    "        \"CoapplicantIncome\",\n",
    "        \"ApplicantIncome\",\n",
    "        \"Married\",\n",
    "        \"Education\",\n",
    "        \"Gender\",\n",
    "        \"Dependents\",\n",
    "        \"Self_Employed\"\n",
    "    ]\n",
    "]\n",
    "Y = A[[\"LoanAmount\"]]"
   ]
  },
  {
   "cell_type": "code",
   "execution_count": 93,
   "id": "0c114467",
   "metadata": {},
   "outputs": [
    {
     "data": {
      "text/html": [
       "<div>\n",
       "<style scoped>\n",
       "    .dataframe tbody tr th:only-of-type {\n",
       "        vertical-align: middle;\n",
       "    }\n",
       "\n",
       "    .dataframe tbody tr th {\n",
       "        vertical-align: top;\n",
       "    }\n",
       "\n",
       "    .dataframe thead th {\n",
       "        text-align: right;\n",
       "    }\n",
       "</style>\n",
       "<table border=\"1\" class=\"dataframe\">\n",
       "  <thead>\n",
       "    <tr style=\"text-align: right;\">\n",
       "      <th></th>\n",
       "      <th>CoapplicantIncome</th>\n",
       "      <th>ApplicantIncome</th>\n",
       "      <th>Married</th>\n",
       "      <th>Education</th>\n",
       "      <th>Gender</th>\n",
       "      <th>Dependents</th>\n",
       "      <th>Self_Employed</th>\n",
       "    </tr>\n",
       "  </thead>\n",
       "  <tbody>\n",
       "    <tr>\n",
       "      <th>0</th>\n",
       "      <td>0.0</td>\n",
       "      <td>5849.000</td>\n",
       "      <td>No</td>\n",
       "      <td>Graduate</td>\n",
       "      <td>Male</td>\n",
       "      <td>0</td>\n",
       "      <td>No</td>\n",
       "    </tr>\n",
       "    <tr>\n",
       "      <th>1</th>\n",
       "      <td>1508.0</td>\n",
       "      <td>5405.541</td>\n",
       "      <td>Yes</td>\n",
       "      <td>Graduate</td>\n",
       "      <td>Male</td>\n",
       "      <td>1</td>\n",
       "      <td>No</td>\n",
       "    </tr>\n",
       "    <tr>\n",
       "      <th>2</th>\n",
       "      <td>0.0</td>\n",
       "      <td>3000.000</td>\n",
       "      <td>Yes</td>\n",
       "      <td>Graduate</td>\n",
       "      <td>Male</td>\n",
       "      <td>0</td>\n",
       "      <td>Yes</td>\n",
       "    </tr>\n",
       "    <tr>\n",
       "      <th>3</th>\n",
       "      <td>2358.0</td>\n",
       "      <td>2583.000</td>\n",
       "      <td>Yes</td>\n",
       "      <td>Not Graduate</td>\n",
       "      <td>Male</td>\n",
       "      <td>0</td>\n",
       "      <td>No</td>\n",
       "    </tr>\n",
       "    <tr>\n",
       "      <th>4</th>\n",
       "      <td>0.0</td>\n",
       "      <td>6000.000</td>\n",
       "      <td>No</td>\n",
       "      <td>Graduate</td>\n",
       "      <td>Male</td>\n",
       "      <td>0</td>\n",
       "      <td>No</td>\n",
       "    </tr>\n",
       "  </tbody>\n",
       "</table>\n",
       "</div>"
      ],
      "text/plain": [
       "   CoapplicantIncome  ApplicantIncome Married     Education Gender Dependents  \\\n",
       "0                0.0         5849.000      No      Graduate   Male          0   \n",
       "1             1508.0         5405.541     Yes      Graduate   Male          1   \n",
       "2                0.0         3000.000     Yes      Graduate   Male          0   \n",
       "3             2358.0         2583.000     Yes  Not Graduate   Male          0   \n",
       "4                0.0         6000.000      No      Graduate   Male          0   \n",
       "\n",
       "  Self_Employed  \n",
       "0            No  \n",
       "1            No  \n",
       "2           Yes  \n",
       "3            No  \n",
       "4            No  "
      ]
     },
     "execution_count": 93,
     "metadata": {},
     "output_type": "execute_result"
    }
   ],
   "source": [
    "X.head()"
   ]
  },
  {
   "cell_type": "code",
   "execution_count": 94,
   "id": "5b47c23c",
   "metadata": {},
   "outputs": [
    {
     "data": {
      "text/html": [
       "<div>\n",
       "<style scoped>\n",
       "    .dataframe tbody tr th:only-of-type {\n",
       "        vertical-align: middle;\n",
       "    }\n",
       "\n",
       "    .dataframe tbody tr th {\n",
       "        vertical-align: top;\n",
       "    }\n",
       "\n",
       "    .dataframe thead th {\n",
       "        text-align: right;\n",
       "    }\n",
       "</style>\n",
       "<table border=\"1\" class=\"dataframe\">\n",
       "  <thead>\n",
       "    <tr style=\"text-align: right;\">\n",
       "      <th></th>\n",
       "      <th>LoanAmount</th>\n",
       "    </tr>\n",
       "  </thead>\n",
       "  <tbody>\n",
       "    <tr>\n",
       "      <th>0</th>\n",
       "      <td>146.412</td>\n",
       "    </tr>\n",
       "    <tr>\n",
       "      <th>1</th>\n",
       "      <td>128.000</td>\n",
       "    </tr>\n",
       "    <tr>\n",
       "      <th>2</th>\n",
       "      <td>66.000</td>\n",
       "    </tr>\n",
       "    <tr>\n",
       "      <th>3</th>\n",
       "      <td>120.000</td>\n",
       "    </tr>\n",
       "    <tr>\n",
       "      <th>4</th>\n",
       "      <td>141.000</td>\n",
       "    </tr>\n",
       "  </tbody>\n",
       "</table>\n",
       "</div>"
      ],
      "text/plain": [
       "   LoanAmount\n",
       "0     146.412\n",
       "1     128.000\n",
       "2      66.000\n",
       "3     120.000\n",
       "4     141.000"
      ]
     },
     "execution_count": 94,
     "metadata": {},
     "output_type": "execute_result"
    }
   ],
   "source": [
    "Y.head()"
   ]
  },
  {
   "cell_type": "markdown",
   "id": "393e7cd4",
   "metadata": {},
   "source": [
    "## Preprocessing"
   ]
  },
  {
   "cell_type": "markdown",
   "id": "9b636031",
   "metadata": {},
   "source": [
    "### Standardizing continous features"
   ]
  },
  {
   "cell_type": "code",
   "execution_count": 95,
   "id": "324210f7",
   "metadata": {},
   "outputs": [],
   "source": [
    "#updating cat[], con[] list\n",
    "cat = []\n",
    "con = []\n",
    "\n",
    "for i in X.columns:\n",
    "    if(X[i].dtypes == \"object\"):\n",
    "        cat.append(i)\n",
    "    else:\n",
    "        con.append(i)"
   ]
  },
  {
   "cell_type": "code",
   "execution_count": 96,
   "id": "1f0038c1",
   "metadata": {},
   "outputs": [
    {
     "name": "stdout",
     "output_type": "stream",
     "text": [
      "['Married', 'Education', 'Gender', 'Dependents', 'Self_Employed']\n"
     ]
    }
   ],
   "source": [
    "print(cat)"
   ]
  },
  {
   "cell_type": "code",
   "execution_count": 97,
   "id": "0cb01658",
   "metadata": {},
   "outputs": [
    {
     "name": "stdout",
     "output_type": "stream",
     "text": [
      "['CoapplicantIncome', 'ApplicantIncome']\n"
     ]
    }
   ],
   "source": [
    "print(con)"
   ]
  },
  {
   "cell_type": "code",
   "execution_count": 98,
   "id": "5dcc1ed5",
   "metadata": {},
   "outputs": [],
   "source": [
    "from sklearn.preprocessing import MinMaxScaler\n",
    "mm = MinMaxScaler()\n",
    "X1 = pd.DataFrame(mm.fit_transform(X[con]), columns=con)"
   ]
  },
  {
   "cell_type": "code",
   "execution_count": 99,
   "id": "94ce1dcc",
   "metadata": {},
   "outputs": [
    {
     "data": {
      "text/html": [
       "<div>\n",
       "<style scoped>\n",
       "    .dataframe tbody tr th:only-of-type {\n",
       "        vertical-align: middle;\n",
       "    }\n",
       "\n",
       "    .dataframe tbody tr th {\n",
       "        vertical-align: top;\n",
       "    }\n",
       "\n",
       "    .dataframe thead th {\n",
       "        text-align: right;\n",
       "    }\n",
       "</style>\n",
       "<table border=\"1\" class=\"dataframe\">\n",
       "  <thead>\n",
       "    <tr style=\"text-align: right;\">\n",
       "      <th></th>\n",
       "      <th>CoapplicantIncome</th>\n",
       "      <th>ApplicantIncome</th>\n",
       "    </tr>\n",
       "  </thead>\n",
       "  <tbody>\n",
       "    <tr>\n",
       "      <th>0</th>\n",
       "      <td>0.000000</td>\n",
       "      <td>0.277770</td>\n",
       "    </tr>\n",
       "    <tr>\n",
       "      <th>1</th>\n",
       "      <td>0.167929</td>\n",
       "      <td>0.256155</td>\n",
       "    </tr>\n",
       "    <tr>\n",
       "      <th>2</th>\n",
       "      <td>0.000000</td>\n",
       "      <td>0.138909</td>\n",
       "    </tr>\n",
       "    <tr>\n",
       "      <th>3</th>\n",
       "      <td>0.262584</td>\n",
       "      <td>0.118585</td>\n",
       "    </tr>\n",
       "    <tr>\n",
       "      <th>4</th>\n",
       "      <td>0.000000</td>\n",
       "      <td>0.285129</td>\n",
       "    </tr>\n",
       "  </tbody>\n",
       "</table>\n",
       "</div>"
      ],
      "text/plain": [
       "   CoapplicantIncome  ApplicantIncome\n",
       "0           0.000000         0.277770\n",
       "1           0.167929         0.256155\n",
       "2           0.000000         0.138909\n",
       "3           0.262584         0.118585\n",
       "4           0.000000         0.285129"
      ]
     },
     "execution_count": 99,
     "metadata": {},
     "output_type": "execute_result"
    }
   ],
   "source": [
    "X1.head()"
   ]
  },
  {
   "cell_type": "markdown",
   "id": "ee400350",
   "metadata": {},
   "source": [
    "### Encoding categorical features"
   ]
  },
  {
   "cell_type": "code",
   "execution_count": 100,
   "id": "31d538d4",
   "metadata": {},
   "outputs": [],
   "source": [
    "X2 = pd.get_dummies(X[cat])"
   ]
  },
  {
   "cell_type": "code",
   "execution_count": 101,
   "id": "d8d65a88",
   "metadata": {},
   "outputs": [],
   "source": [
    "Xnew = X1.join(X2)"
   ]
  },
  {
   "cell_type": "code",
   "execution_count": 102,
   "id": "7f2d67a5",
   "metadata": {},
   "outputs": [
    {
     "data": {
      "text/html": [
       "<div>\n",
       "<style scoped>\n",
       "    .dataframe tbody tr th:only-of-type {\n",
       "        vertical-align: middle;\n",
       "    }\n",
       "\n",
       "    .dataframe tbody tr th {\n",
       "        vertical-align: top;\n",
       "    }\n",
       "\n",
       "    .dataframe thead th {\n",
       "        text-align: right;\n",
       "    }\n",
       "</style>\n",
       "<table border=\"1\" class=\"dataframe\">\n",
       "  <thead>\n",
       "    <tr style=\"text-align: right;\">\n",
       "      <th></th>\n",
       "      <th>CoapplicantIncome</th>\n",
       "      <th>ApplicantIncome</th>\n",
       "      <th>Married_No</th>\n",
       "      <th>Married_Yes</th>\n",
       "      <th>Education_Graduate</th>\n",
       "      <th>Education_Not Graduate</th>\n",
       "      <th>Gender_Female</th>\n",
       "      <th>Gender_Male</th>\n",
       "      <th>Dependents_0</th>\n",
       "      <th>Dependents_1</th>\n",
       "      <th>Dependents_2</th>\n",
       "      <th>Dependents_3+</th>\n",
       "      <th>Self_Employed_No</th>\n",
       "      <th>Self_Employed_Yes</th>\n",
       "    </tr>\n",
       "  </thead>\n",
       "  <tbody>\n",
       "    <tr>\n",
       "      <th>0</th>\n",
       "      <td>0.000000</td>\n",
       "      <td>0.277770</td>\n",
       "      <td>1</td>\n",
       "      <td>0</td>\n",
       "      <td>1</td>\n",
       "      <td>0</td>\n",
       "      <td>0</td>\n",
       "      <td>1</td>\n",
       "      <td>1</td>\n",
       "      <td>0</td>\n",
       "      <td>0</td>\n",
       "      <td>0</td>\n",
       "      <td>1</td>\n",
       "      <td>0</td>\n",
       "    </tr>\n",
       "    <tr>\n",
       "      <th>1</th>\n",
       "      <td>0.167929</td>\n",
       "      <td>0.256155</td>\n",
       "      <td>0</td>\n",
       "      <td>1</td>\n",
       "      <td>1</td>\n",
       "      <td>0</td>\n",
       "      <td>0</td>\n",
       "      <td>1</td>\n",
       "      <td>0</td>\n",
       "      <td>1</td>\n",
       "      <td>0</td>\n",
       "      <td>0</td>\n",
       "      <td>1</td>\n",
       "      <td>0</td>\n",
       "    </tr>\n",
       "    <tr>\n",
       "      <th>2</th>\n",
       "      <td>0.000000</td>\n",
       "      <td>0.138909</td>\n",
       "      <td>0</td>\n",
       "      <td>1</td>\n",
       "      <td>1</td>\n",
       "      <td>0</td>\n",
       "      <td>0</td>\n",
       "      <td>1</td>\n",
       "      <td>1</td>\n",
       "      <td>0</td>\n",
       "      <td>0</td>\n",
       "      <td>0</td>\n",
       "      <td>0</td>\n",
       "      <td>1</td>\n",
       "    </tr>\n",
       "    <tr>\n",
       "      <th>3</th>\n",
       "      <td>0.262584</td>\n",
       "      <td>0.118585</td>\n",
       "      <td>0</td>\n",
       "      <td>1</td>\n",
       "      <td>0</td>\n",
       "      <td>1</td>\n",
       "      <td>0</td>\n",
       "      <td>1</td>\n",
       "      <td>1</td>\n",
       "      <td>0</td>\n",
       "      <td>0</td>\n",
       "      <td>0</td>\n",
       "      <td>1</td>\n",
       "      <td>0</td>\n",
       "    </tr>\n",
       "    <tr>\n",
       "      <th>4</th>\n",
       "      <td>0.000000</td>\n",
       "      <td>0.285129</td>\n",
       "      <td>1</td>\n",
       "      <td>0</td>\n",
       "      <td>1</td>\n",
       "      <td>0</td>\n",
       "      <td>0</td>\n",
       "      <td>1</td>\n",
       "      <td>1</td>\n",
       "      <td>0</td>\n",
       "      <td>0</td>\n",
       "      <td>0</td>\n",
       "      <td>1</td>\n",
       "      <td>0</td>\n",
       "    </tr>\n",
       "  </tbody>\n",
       "</table>\n",
       "</div>"
      ],
      "text/plain": [
       "   CoapplicantIncome  ApplicantIncome  Married_No  Married_Yes  \\\n",
       "0           0.000000         0.277770           1            0   \n",
       "1           0.167929         0.256155           0            1   \n",
       "2           0.000000         0.138909           0            1   \n",
       "3           0.262584         0.118585           0            1   \n",
       "4           0.000000         0.285129           1            0   \n",
       "\n",
       "   Education_Graduate  Education_Not Graduate  Gender_Female  Gender_Male  \\\n",
       "0                   1                       0              0            1   \n",
       "1                   1                       0              0            1   \n",
       "2                   1                       0              0            1   \n",
       "3                   0                       1              0            1   \n",
       "4                   1                       0              0            1   \n",
       "\n",
       "   Dependents_0  Dependents_1  Dependents_2  Dependents_3+  Self_Employed_No  \\\n",
       "0             1             0             0              0                 1   \n",
       "1             0             1             0              0                 1   \n",
       "2             1             0             0              0                 0   \n",
       "3             1             0             0              0                 1   \n",
       "4             1             0             0              0                 1   \n",
       "\n",
       "   Self_Employed_Yes  \n",
       "0                  0  \n",
       "1                  0  \n",
       "2                  1  \n",
       "3                  0  \n",
       "4                  0  "
      ]
     },
     "execution_count": 102,
     "metadata": {},
     "output_type": "execute_result"
    }
   ],
   "source": [
    "Xnew.head()"
   ]
  },
  {
   "cell_type": "markdown",
   "id": "73809b12",
   "metadata": {},
   "source": [
    "## Splitting the data"
   ]
  },
  {
   "cell_type": "code",
   "execution_count": 103,
   "id": "d7759f36",
   "metadata": {},
   "outputs": [],
   "source": [
    "from sklearn.model_selection import train_test_split\n",
    "xtrain, xtest, ytrain, ytest = train_test_split(Xnew, Y, test_size=0.2, random_state=21)"
   ]
  },
  {
   "cell_type": "markdown",
   "id": "988b9f62",
   "metadata": {},
   "source": [
    "## Linear Regression"
   ]
  },
  {
   "cell_type": "code",
   "execution_count": 104,
   "id": "154933c3",
   "metadata": {},
   "outputs": [
    {
     "data": {
      "text/plain": [
       "(32.0252489154013, 28.362706896551725)"
      ]
     },
     "execution_count": 104,
     "metadata": {},
     "output_type": "execute_result"
    }
   ],
   "source": [
    "from sklearn.linear_model import LinearRegression\n",
    "xtrain, xtest, ytrain, ytest = train_test_split(Xnew, Y, test_size=0.2, random_state=31)\n",
    "\n",
    "lm = LinearRegression()\n",
    "model = lm.fit(xtrain, ytrain)\n",
    "tr_pred = model.predict(xtrain)\n",
    "ts_pred = model.predict(xtest)\n",
    "\n",
    "from sklearn.metrics import mean_absolute_error\n",
    "tr_err = mean_absolute_error(ytrain, tr_pred)\n",
    "ts_err = mean_absolute_error(ytest, ts_pred)\n",
    "\n",
    "tr_err, ts_err"
   ]
  },
  {
   "cell_type": "code",
   "execution_count": 105,
   "id": "6ef8ae3d",
   "metadata": {},
   "outputs": [],
   "source": [
    "x = 0.01\n",
    "alphas = []\n",
    "for i in range(0,1050,1):\n",
    "    alphas.append(x)\n",
    "    x = round(x + 0.01,2)"
   ]
  },
  {
   "cell_type": "code",
   "execution_count": 106,
   "id": "5ccb9e74",
   "metadata": {},
   "outputs": [
    {
     "data": {
      "text/plain": [
       "{'alpha': 0.01}"
      ]
     },
     "execution_count": 106,
     "metadata": {},
     "output_type": "execute_result"
    }
   ],
   "source": [
    "from sklearn.linear_model import Lasso\n",
    "tuning_grid = {\"alpha\":alphas}\n",
    "ls = Lasso(random_state=21)\n",
    "\n",
    "from sklearn.model_selection import GridSearchCV\n",
    "cv = GridSearchCV(ls, tuning_grid, scoring = \"neg_mean_absolute_error\", cv=4)\n",
    "cvmodel = cv.fit(Xnew,Y)\n",
    "cvmodel.best_params_"
   ]
  },
  {
   "cell_type": "code",
   "execution_count": 107,
   "id": "9abb157b",
   "metadata": {},
   "outputs": [
    {
     "name": "stdout",
     "output_type": "stream",
     "text": [
      "32.06295683772626 28.454319631663992 -3.6086372060622693\n"
     ]
    }
   ],
   "source": [
    "ls = Lasso(alpha=0.08)\n",
    "model = ls.fit(xtrain,ytrain)\n",
    "tr_pred = model.predict(xtrain)\n",
    "ts_pred = model.predict(xtest)\n",
    "\n",
    "tr_err = mean_absolute_error(ytrain,tr_pred)\n",
    "ts_err = mean_absolute_error(ytest,ts_pred)\n",
    "\n",
    "print(tr_err, ts_err, ts_err - tr_err)"
   ]
  },
  {
   "cell_type": "markdown",
   "id": "6b061632",
   "metadata": {},
   "source": [
    "## Ridge Regression"
   ]
  },
  {
   "cell_type": "code",
   "execution_count": 108,
   "id": "9582cb9e",
   "metadata": {},
   "outputs": [
    {
     "data": {
      "text/plain": [
       "{'alpha': 0.01}"
      ]
     },
     "execution_count": 108,
     "metadata": {},
     "output_type": "execute_result"
    }
   ],
   "source": [
    "from sklearn.linear_model import Ridge\n",
    "tuning_grid = {\"alpha\":alphas}\n",
    "rr = Ridge()\n",
    "\n",
    "from sklearn.model_selection import GridSearchCV\n",
    "cv = GridSearchCV(rr, tuning_grid, scoring = \"neg_mean_absolute_error\", cv=4)\n",
    "cvmodel = cv.fit(Xnew,Y)\n",
    "cvmodel.best_params_"
   ]
  },
  {
   "cell_type": "code",
   "execution_count": 109,
   "id": "bdfd0619",
   "metadata": {},
   "outputs": [
    {
     "name": "stdout",
     "output_type": "stream",
     "text": [
      "32.02953594262204 28.370355942136307 -3.6591800004857333\n"
     ]
    }
   ],
   "source": [
    "rr = Ridge(alpha=0.01)\n",
    "model = rr.fit(xtrain,ytrain)\n",
    "tr_pred = model.predict(xtrain)\n",
    "ts_pred = model.predict(xtest)\n",
    "\n",
    "tr_err = mean_absolute_error(ytrain,tr_pred)\n",
    "ts_err = mean_absolute_error(ytest,ts_pred)\n",
    "\n",
    "print(tr_err, ts_err, ts_err-tr_err)"
   ]
  },
  {
   "cell_type": "markdown",
   "id": "e05775dc",
   "metadata": {},
   "source": [
    "## AdaBoost"
   ]
  },
  {
   "cell_type": "code",
   "execution_count": 110,
   "id": "ab68468e",
   "metadata": {},
   "outputs": [
    {
     "name": "stdout",
     "output_type": "stream",
     "text": [
      "32.877643907592066 32.6617235322842 0.21592037530786712\n"
     ]
    }
   ],
   "source": [
    "from sklearn.ensemble import AdaBoostRegressor\n",
    "from sklearn.tree import DecisionTreeRegressor\n",
    "\n",
    "abr = AdaBoostRegressor(DecisionTreeRegressor(random_state=21,max_depth=2))\n",
    "model = abr.fit(xtrain,ytrain)\n",
    "\n",
    "tr_pred = model.predict(xtrain)\n",
    "ts_pred = model.predict(xtest)\n",
    "\n",
    "tr_err = mean_absolute_error(ytrain,tr_pred)\n",
    "ts_err  = mean_absolute_error(ytest,ts_pred)\n",
    "\n",
    "print(tr_err, ts_err, tr_err-ts_err)"
   ]
  },
  {
   "cell_type": "code",
   "execution_count": 111,
   "id": "9c8571d2",
   "metadata": {},
   "outputs": [
    {
     "data": {
      "text/plain": [
       "{'n_estimators': 12}"
      ]
     },
     "execution_count": 111,
     "metadata": {},
     "output_type": "execute_result"
    }
   ],
   "source": [
    "#GridSearch CV for hyperparameter tuning\n",
    "tg = {\"n_estimators\":range(2,30,10)}\n",
    "\n",
    "dtc = DecisionTreeRegressor(random_state=21, max_depth=2)\n",
    "abc = AdaBoostRegressor(dtc)\n",
    "\n",
    "from sklearn.model_selection import GridSearchCV\n",
    "cv = GridSearchCV(abc, tg, scoring = \"neg_mean_absolute_error\", cv=4)\n",
    "cvmodel = cv.fit(Xnew, Y)\n",
    "cvmodel.best_params_"
   ]
  },
  {
   "cell_type": "code",
   "execution_count": 112,
   "id": "1511e528",
   "metadata": {},
   "outputs": [
    {
     "name": "stdout",
     "output_type": "stream",
     "text": [
      "32.87964669364445 31.737174316929817 1.142472376714636\n"
     ]
    }
   ],
   "source": [
    "abr = AdaBoostRegressor(DecisionTreeRegressor(random_state=21, max_depth=2), n_estimators=22)\n",
    "model = abr.fit(xtrain,ytrain)\n",
    "\n",
    "tr_pred = model.predict(xtrain)\n",
    "ts_pred = model.predict(xtest)\n",
    "\n",
    "tr_err = mean_absolute_error(ytrain,tr_pred)\n",
    "ts_err  = mean_absolute_error(ytest,ts_pred)\n",
    "\n",
    "print(tr_err, ts_err, tr_err-ts_err)"
   ]
  },
  {
   "cell_type": "markdown",
   "id": "69552823",
   "metadata": {},
   "source": [
    "From above observations we can conclude that 'Linear Regression', 'Lasso Regression', 'Ridge Regression' and 'AdaBoostRegressor' are performing similar to each other. But for making predictions on final test dataset we will be chosing 'Ridge Regression'."
   ]
  },
  {
   "cell_type": "markdown",
   "id": "25097b32",
   "metadata": {},
   "source": [
    "## Final Model - Ridge Regression for 'LoanAmount'"
   ]
  },
  {
   "cell_type": "code",
   "execution_count": 113,
   "id": "d9b8c22c",
   "metadata": {},
   "outputs": [
    {
     "data": {
      "text/html": [
       "<div>\n",
       "<style scoped>\n",
       "    .dataframe tbody tr th:only-of-type {\n",
       "        vertical-align: middle;\n",
       "    }\n",
       "\n",
       "    .dataframe tbody tr th {\n",
       "        vertical-align: top;\n",
       "    }\n",
       "\n",
       "    .dataframe thead th {\n",
       "        text-align: right;\n",
       "    }\n",
       "</style>\n",
       "<table border=\"1\" class=\"dataframe\">\n",
       "  <thead>\n",
       "    <tr style=\"text-align: right;\">\n",
       "      <th></th>\n",
       "      <th>CoapplicantIncome</th>\n",
       "      <th>ApplicantIncome</th>\n",
       "      <th>Married_No</th>\n",
       "      <th>Married_Yes</th>\n",
       "      <th>Education_Graduate</th>\n",
       "      <th>Education_Not Graduate</th>\n",
       "      <th>Gender_Female</th>\n",
       "      <th>Gender_Male</th>\n",
       "      <th>Dependents_0</th>\n",
       "      <th>Dependents_1</th>\n",
       "      <th>Dependents_2</th>\n",
       "      <th>Dependents_3+</th>\n",
       "      <th>Self_Employed_No</th>\n",
       "      <th>Self_Employed_Yes</th>\n",
       "    </tr>\n",
       "  </thead>\n",
       "  <tbody>\n",
       "    <tr>\n",
       "      <th>0</th>\n",
       "      <td>0.000000</td>\n",
       "      <td>0.277770</td>\n",
       "      <td>1</td>\n",
       "      <td>0</td>\n",
       "      <td>1</td>\n",
       "      <td>0</td>\n",
       "      <td>0</td>\n",
       "      <td>1</td>\n",
       "      <td>1</td>\n",
       "      <td>0</td>\n",
       "      <td>0</td>\n",
       "      <td>0</td>\n",
       "      <td>1</td>\n",
       "      <td>0</td>\n",
       "    </tr>\n",
       "    <tr>\n",
       "      <th>1</th>\n",
       "      <td>0.167929</td>\n",
       "      <td>0.256155</td>\n",
       "      <td>0</td>\n",
       "      <td>1</td>\n",
       "      <td>1</td>\n",
       "      <td>0</td>\n",
       "      <td>0</td>\n",
       "      <td>1</td>\n",
       "      <td>0</td>\n",
       "      <td>1</td>\n",
       "      <td>0</td>\n",
       "      <td>0</td>\n",
       "      <td>1</td>\n",
       "      <td>0</td>\n",
       "    </tr>\n",
       "    <tr>\n",
       "      <th>2</th>\n",
       "      <td>0.000000</td>\n",
       "      <td>0.138909</td>\n",
       "      <td>0</td>\n",
       "      <td>1</td>\n",
       "      <td>1</td>\n",
       "      <td>0</td>\n",
       "      <td>0</td>\n",
       "      <td>1</td>\n",
       "      <td>1</td>\n",
       "      <td>0</td>\n",
       "      <td>0</td>\n",
       "      <td>0</td>\n",
       "      <td>0</td>\n",
       "      <td>1</td>\n",
       "    </tr>\n",
       "    <tr>\n",
       "      <th>3</th>\n",
       "      <td>0.262584</td>\n",
       "      <td>0.118585</td>\n",
       "      <td>0</td>\n",
       "      <td>1</td>\n",
       "      <td>0</td>\n",
       "      <td>1</td>\n",
       "      <td>0</td>\n",
       "      <td>1</td>\n",
       "      <td>1</td>\n",
       "      <td>0</td>\n",
       "      <td>0</td>\n",
       "      <td>0</td>\n",
       "      <td>1</td>\n",
       "      <td>0</td>\n",
       "    </tr>\n",
       "    <tr>\n",
       "      <th>4</th>\n",
       "      <td>0.000000</td>\n",
       "      <td>0.285129</td>\n",
       "      <td>1</td>\n",
       "      <td>0</td>\n",
       "      <td>1</td>\n",
       "      <td>0</td>\n",
       "      <td>0</td>\n",
       "      <td>1</td>\n",
       "      <td>1</td>\n",
       "      <td>0</td>\n",
       "      <td>0</td>\n",
       "      <td>0</td>\n",
       "      <td>1</td>\n",
       "      <td>0</td>\n",
       "    </tr>\n",
       "  </tbody>\n",
       "</table>\n",
       "</div>"
      ],
      "text/plain": [
       "   CoapplicantIncome  ApplicantIncome  Married_No  Married_Yes  \\\n",
       "0           0.000000         0.277770           1            0   \n",
       "1           0.167929         0.256155           0            1   \n",
       "2           0.000000         0.138909           0            1   \n",
       "3           0.262584         0.118585           0            1   \n",
       "4           0.000000         0.285129           1            0   \n",
       "\n",
       "   Education_Graduate  Education_Not Graduate  Gender_Female  Gender_Male  \\\n",
       "0                   1                       0              0            1   \n",
       "1                   1                       0              0            1   \n",
       "2                   1                       0              0            1   \n",
       "3                   0                       1              0            1   \n",
       "4                   1                       0              0            1   \n",
       "\n",
       "   Dependents_0  Dependents_1  Dependents_2  Dependents_3+  Self_Employed_No  \\\n",
       "0             1             0             0              0                 1   \n",
       "1             0             1             0              0                 1   \n",
       "2             1             0             0              0                 0   \n",
       "3             1             0             0              0                 1   \n",
       "4             1             0             0              0                 1   \n",
       "\n",
       "   Self_Employed_Yes  \n",
       "0                  0  \n",
       "1                  0  \n",
       "2                  1  \n",
       "3                  0  \n",
       "4                  0  "
      ]
     },
     "execution_count": 113,
     "metadata": {},
     "output_type": "execute_result"
    }
   ],
   "source": [
    "Xnew.head()"
   ]
  },
  {
   "cell_type": "code",
   "execution_count": 114,
   "id": "1360b15e",
   "metadata": {},
   "outputs": [],
   "source": [
    "rr = Ridge(alpha=0.01)\n",
    "loanAmount_model = rr.fit(Xnew, Y)"
   ]
  },
  {
   "cell_type": "code",
   "execution_count": 115,
   "id": "c4ceac74",
   "metadata": {},
   "outputs": [],
   "source": [
    "import pickle as pkl\n",
    "pkl.dump(loanAmount_model, open(\"loanAmount_model.pkl\", \"wb\"))"
   ]
  },
  {
   "cell_type": "markdown",
   "id": "1f849908",
   "metadata": {},
   "source": [
    "## Problem Statement 3 - LoanAmount_Term"
   ]
  },
  {
   "cell_type": "code",
   "execution_count": 116,
   "id": "60b17177",
   "metadata": {},
   "outputs": [
    {
     "data": {
      "text/html": [
       "<div>\n",
       "<style scoped>\n",
       "    .dataframe tbody tr th:only-of-type {\n",
       "        vertical-align: middle;\n",
       "    }\n",
       "\n",
       "    .dataframe tbody tr th {\n",
       "        vertical-align: top;\n",
       "    }\n",
       "\n",
       "    .dataframe thead th {\n",
       "        text-align: right;\n",
       "    }\n",
       "</style>\n",
       "<table border=\"1\" class=\"dataframe\">\n",
       "  <thead>\n",
       "    <tr style=\"text-align: right;\">\n",
       "      <th></th>\n",
       "      <th>Gender</th>\n",
       "      <th>Married</th>\n",
       "      <th>Dependents</th>\n",
       "      <th>Education</th>\n",
       "      <th>Self_Employed</th>\n",
       "      <th>ApplicantIncome</th>\n",
       "      <th>CoapplicantIncome</th>\n",
       "      <th>LoanAmount</th>\n",
       "      <th>Loan_Amount_Term</th>\n",
       "      <th>Credit_History</th>\n",
       "      <th>Property_Area</th>\n",
       "      <th>Loan_Status</th>\n",
       "    </tr>\n",
       "  </thead>\n",
       "  <tbody>\n",
       "    <tr>\n",
       "      <th>0</th>\n",
       "      <td>Male</td>\n",
       "      <td>No</td>\n",
       "      <td>0</td>\n",
       "      <td>Graduate</td>\n",
       "      <td>No</td>\n",
       "      <td>5849.000</td>\n",
       "      <td>0.0</td>\n",
       "      <td>146.412</td>\n",
       "      <td>360.0</td>\n",
       "      <td>1.0</td>\n",
       "      <td>Urban</td>\n",
       "      <td>Y</td>\n",
       "    </tr>\n",
       "    <tr>\n",
       "      <th>1</th>\n",
       "      <td>Male</td>\n",
       "      <td>Yes</td>\n",
       "      <td>1</td>\n",
       "      <td>Graduate</td>\n",
       "      <td>No</td>\n",
       "      <td>5405.541</td>\n",
       "      <td>1508.0</td>\n",
       "      <td>128.000</td>\n",
       "      <td>360.0</td>\n",
       "      <td>1.0</td>\n",
       "      <td>Rural</td>\n",
       "      <td>N</td>\n",
       "    </tr>\n",
       "    <tr>\n",
       "      <th>2</th>\n",
       "      <td>Male</td>\n",
       "      <td>Yes</td>\n",
       "      <td>0</td>\n",
       "      <td>Graduate</td>\n",
       "      <td>Yes</td>\n",
       "      <td>3000.000</td>\n",
       "      <td>0.0</td>\n",
       "      <td>66.000</td>\n",
       "      <td>360.0</td>\n",
       "      <td>1.0</td>\n",
       "      <td>Urban</td>\n",
       "      <td>Y</td>\n",
       "    </tr>\n",
       "    <tr>\n",
       "      <th>3</th>\n",
       "      <td>Male</td>\n",
       "      <td>Yes</td>\n",
       "      <td>0</td>\n",
       "      <td>Not Graduate</td>\n",
       "      <td>No</td>\n",
       "      <td>2583.000</td>\n",
       "      <td>2358.0</td>\n",
       "      <td>120.000</td>\n",
       "      <td>360.0</td>\n",
       "      <td>1.0</td>\n",
       "      <td>Urban</td>\n",
       "      <td>Y</td>\n",
       "    </tr>\n",
       "    <tr>\n",
       "      <th>4</th>\n",
       "      <td>Male</td>\n",
       "      <td>No</td>\n",
       "      <td>0</td>\n",
       "      <td>Graduate</td>\n",
       "      <td>No</td>\n",
       "      <td>6000.000</td>\n",
       "      <td>0.0</td>\n",
       "      <td>141.000</td>\n",
       "      <td>360.0</td>\n",
       "      <td>1.0</td>\n",
       "      <td>Urban</td>\n",
       "      <td>Y</td>\n",
       "    </tr>\n",
       "  </tbody>\n",
       "</table>\n",
       "</div>"
      ],
      "text/plain": [
       "  Gender Married Dependents     Education Self_Employed  ApplicantIncome  \\\n",
       "0   Male      No          0      Graduate            No         5849.000   \n",
       "1   Male     Yes          1      Graduate            No         5405.541   \n",
       "2   Male     Yes          0      Graduate           Yes         3000.000   \n",
       "3   Male     Yes          0  Not Graduate            No         2583.000   \n",
       "4   Male      No          0      Graduate            No         6000.000   \n",
       "\n",
       "   CoapplicantIncome  LoanAmount  Loan_Amount_Term  Credit_History  \\\n",
       "0                0.0     146.412             360.0             1.0   \n",
       "1             1508.0     128.000             360.0             1.0   \n",
       "2                0.0      66.000             360.0             1.0   \n",
       "3             2358.0     120.000             360.0             1.0   \n",
       "4                0.0     141.000             360.0             1.0   \n",
       "\n",
       "  Property_Area Loan_Status  \n",
       "0         Urban           Y  \n",
       "1         Rural           N  \n",
       "2         Urban           Y  \n",
       "3         Urban           Y  \n",
       "4         Urban           Y  "
      ]
     },
     "execution_count": 116,
     "metadata": {},
     "output_type": "execute_result"
    }
   ],
   "source": [
    "A.head()"
   ]
  },
  {
   "cell_type": "markdown",
   "id": "d2290f82",
   "metadata": {},
   "source": [
    "## Exploratory Data Analysis"
   ]
  },
  {
   "cell_type": "markdown",
   "id": "ebc0f579",
   "metadata": {},
   "source": [
    "### Continous features analysis - Correlation"
   ]
  },
  {
   "cell_type": "code",
   "execution_count": 117,
   "id": "05cdb61e",
   "metadata": {},
   "outputs": [],
   "source": [
    "P = A.corr()['Loan_Amount_Term'].sort_values()\n",
    "P = P[P!=1]"
   ]
  },
  {
   "cell_type": "code",
   "execution_count": 118,
   "id": "40df3d3b",
   "metadata": {},
   "outputs": [
    {
     "data": {
      "text/plain": [
       "CoapplicantIncome   -0.060402\n",
       "ApplicantIncome     -0.050422\n",
       "Credit_History       0.030425\n",
       "LoanAmount           0.040302\n",
       "Name: Loan_Amount_Term, dtype: float64"
      ]
     },
     "execution_count": 118,
     "metadata": {},
     "output_type": "execute_result"
    }
   ],
   "source": [
    "P"
   ]
  },
  {
   "cell_type": "markdown",
   "id": "d5230bdc",
   "metadata": {},
   "source": [
    "Considering correlation all are bad continous predictors for 'Loan_Amount_Term'."
   ]
  },
  {
   "cell_type": "markdown",
   "id": "fc6a7799",
   "metadata": {},
   "source": [
    "### Categorical features analysis - ANOVA"
   ]
  },
  {
   "cell_type": "code",
   "execution_count": 119,
   "id": "4d2bd075",
   "metadata": {},
   "outputs": [],
   "source": [
    "#updating cat[], con[] list\n",
    "cat = []\n",
    "con = []\n",
    "\n",
    "for i in A.columns:\n",
    "    if(A[i].dtypes == \"object\"):\n",
    "        cat.append(i)\n",
    "    else:\n",
    "        con.append(i)"
   ]
  },
  {
   "cell_type": "code",
   "execution_count": 120,
   "id": "25be19a3",
   "metadata": {},
   "outputs": [
    {
     "name": "stdout",
     "output_type": "stream",
     "text": [
      "['Gender', 'Married', 'Dependents', 'Education', 'Self_Employed', 'Property_Area', 'Loan_Status']\n"
     ]
    }
   ],
   "source": [
    "print(cat)"
   ]
  },
  {
   "cell_type": "code",
   "execution_count": 121,
   "id": "c5abf0c7",
   "metadata": {},
   "outputs": [
    {
     "name": "stdout",
     "output_type": "stream",
     "text": [
      "['ApplicantIncome', 'CoapplicantIncome', 'LoanAmount', 'Loan_Amount_Term', 'Credit_History']\n"
     ]
    }
   ],
   "source": [
    "print(con)"
   ]
  },
  {
   "cell_type": "code",
   "execution_count": 122,
   "id": "0a1932de",
   "metadata": {},
   "outputs": [],
   "source": [
    "anova_pvals = {} #creating a dictionary for p-values from ANOVA\n",
    "for i in cat:\n",
    "    pval = ANOVA(A, \"LoanAmount\", i)\n",
    "    anova_pvals[i] = pval"
   ]
  },
  {
   "cell_type": "code",
   "execution_count": 123,
   "id": "d1cad496",
   "metadata": {},
   "outputs": [
    {
     "data": {
      "text/plain": [
       "{'Gender': 0.00011393091025986167,\n",
       " 'Married': 6.726604265542053e-05,\n",
       " 'Dependents': 0.008630321795081315,\n",
       " 'Education': 0.0004110644401791326,\n",
       " 'Self_Employed': 0.0033620949207321463,\n",
       " 'Property_Area': 0.19100079376121265,\n",
       " 'Loan_Status': 0.3975038561633506}"
      ]
     },
     "execution_count": 123,
     "metadata": {},
     "output_type": "execute_result"
    }
   ],
   "source": [
    "anova_pvals"
   ]
  },
  {
   "cell_type": "code",
   "execution_count": 124,
   "id": "07782484",
   "metadata": {},
   "outputs": [
    {
     "name": "stdout",
     "output_type": "stream",
     "text": [
      "Gender : 0.00011393091025986167\n",
      "Married : 6.726604265542053e-05\n",
      "Dependents : 0.008630321795081315\n",
      "Education : 0.0004110644401791326\n",
      "Self_Employed : 0.0033620949207321463\n"
     ]
    }
   ],
   "source": [
    "#filtering good continous features (having pval less than 0.05)\n",
    "for key, value in anova_pvals.items():\n",
    "    if(value < 0.05):\n",
    "        print(key, \":\", value)"
   ]
  },
  {
   "cell_type": "markdown",
   "id": "d66cadef",
   "metadata": {},
   "source": [
    "Considering ANOVA 'Gender', 'Married', 'Dependents', 'Education', 'Self_Employed' are good categorical predictors for 'Loan_Amount_Term'."
   ]
  },
  {
   "cell_type": "code",
   "execution_count": 125,
   "id": "e1158731",
   "metadata": {},
   "outputs": [],
   "source": [
    "X = A[[\"Gender\", \"Married\", \"Dependents\", \"Education\", \"Self_Employed\", \"CoapplicantIncome\", \"ApplicantIncome\"]]\n",
    "Y = A[[\"Loan_Amount_Term\"]]"
   ]
  },
  {
   "cell_type": "code",
   "execution_count": 126,
   "id": "0ee180bf",
   "metadata": {},
   "outputs": [
    {
     "data": {
      "text/html": [
       "<div>\n",
       "<style scoped>\n",
       "    .dataframe tbody tr th:only-of-type {\n",
       "        vertical-align: middle;\n",
       "    }\n",
       "\n",
       "    .dataframe tbody tr th {\n",
       "        vertical-align: top;\n",
       "    }\n",
       "\n",
       "    .dataframe thead th {\n",
       "        text-align: right;\n",
       "    }\n",
       "</style>\n",
       "<table border=\"1\" class=\"dataframe\">\n",
       "  <thead>\n",
       "    <tr style=\"text-align: right;\">\n",
       "      <th></th>\n",
       "      <th>Gender</th>\n",
       "      <th>Married</th>\n",
       "      <th>Dependents</th>\n",
       "      <th>Education</th>\n",
       "      <th>Self_Employed</th>\n",
       "      <th>CoapplicantIncome</th>\n",
       "      <th>ApplicantIncome</th>\n",
       "    </tr>\n",
       "  </thead>\n",
       "  <tbody>\n",
       "    <tr>\n",
       "      <th>0</th>\n",
       "      <td>Male</td>\n",
       "      <td>No</td>\n",
       "      <td>0</td>\n",
       "      <td>Graduate</td>\n",
       "      <td>No</td>\n",
       "      <td>0.0</td>\n",
       "      <td>5849.000</td>\n",
       "    </tr>\n",
       "    <tr>\n",
       "      <th>1</th>\n",
       "      <td>Male</td>\n",
       "      <td>Yes</td>\n",
       "      <td>1</td>\n",
       "      <td>Graduate</td>\n",
       "      <td>No</td>\n",
       "      <td>1508.0</td>\n",
       "      <td>5405.541</td>\n",
       "    </tr>\n",
       "    <tr>\n",
       "      <th>2</th>\n",
       "      <td>Male</td>\n",
       "      <td>Yes</td>\n",
       "      <td>0</td>\n",
       "      <td>Graduate</td>\n",
       "      <td>Yes</td>\n",
       "      <td>0.0</td>\n",
       "      <td>3000.000</td>\n",
       "    </tr>\n",
       "    <tr>\n",
       "      <th>3</th>\n",
       "      <td>Male</td>\n",
       "      <td>Yes</td>\n",
       "      <td>0</td>\n",
       "      <td>Not Graduate</td>\n",
       "      <td>No</td>\n",
       "      <td>2358.0</td>\n",
       "      <td>2583.000</td>\n",
       "    </tr>\n",
       "    <tr>\n",
       "      <th>4</th>\n",
       "      <td>Male</td>\n",
       "      <td>No</td>\n",
       "      <td>0</td>\n",
       "      <td>Graduate</td>\n",
       "      <td>No</td>\n",
       "      <td>0.0</td>\n",
       "      <td>6000.000</td>\n",
       "    </tr>\n",
       "  </tbody>\n",
       "</table>\n",
       "</div>"
      ],
      "text/plain": [
       "  Gender Married Dependents     Education Self_Employed  CoapplicantIncome  \\\n",
       "0   Male      No          0      Graduate            No                0.0   \n",
       "1   Male     Yes          1      Graduate            No             1508.0   \n",
       "2   Male     Yes          0      Graduate           Yes                0.0   \n",
       "3   Male     Yes          0  Not Graduate            No             2358.0   \n",
       "4   Male      No          0      Graduate            No                0.0   \n",
       "\n",
       "   ApplicantIncome  \n",
       "0         5849.000  \n",
       "1         5405.541  \n",
       "2         3000.000  \n",
       "3         2583.000  \n",
       "4         6000.000  "
      ]
     },
     "execution_count": 126,
     "metadata": {},
     "output_type": "execute_result"
    }
   ],
   "source": [
    "X.head()"
   ]
  },
  {
   "cell_type": "code",
   "execution_count": 127,
   "id": "16eb5d97",
   "metadata": {},
   "outputs": [
    {
     "data": {
      "text/html": [
       "<div>\n",
       "<style scoped>\n",
       "    .dataframe tbody tr th:only-of-type {\n",
       "        vertical-align: middle;\n",
       "    }\n",
       "\n",
       "    .dataframe tbody tr th {\n",
       "        vertical-align: top;\n",
       "    }\n",
       "\n",
       "    .dataframe thead th {\n",
       "        text-align: right;\n",
       "    }\n",
       "</style>\n",
       "<table border=\"1\" class=\"dataframe\">\n",
       "  <thead>\n",
       "    <tr style=\"text-align: right;\">\n",
       "      <th></th>\n",
       "      <th>Loan_Amount_Term</th>\n",
       "    </tr>\n",
       "  </thead>\n",
       "  <tbody>\n",
       "    <tr>\n",
       "      <th>0</th>\n",
       "      <td>360.0</td>\n",
       "    </tr>\n",
       "    <tr>\n",
       "      <th>1</th>\n",
       "      <td>360.0</td>\n",
       "    </tr>\n",
       "    <tr>\n",
       "      <th>2</th>\n",
       "      <td>360.0</td>\n",
       "    </tr>\n",
       "    <tr>\n",
       "      <th>3</th>\n",
       "      <td>360.0</td>\n",
       "    </tr>\n",
       "    <tr>\n",
       "      <th>4</th>\n",
       "      <td>360.0</td>\n",
       "    </tr>\n",
       "  </tbody>\n",
       "</table>\n",
       "</div>"
      ],
      "text/plain": [
       "   Loan_Amount_Term\n",
       "0             360.0\n",
       "1             360.0\n",
       "2             360.0\n",
       "3             360.0\n",
       "4             360.0"
      ]
     },
     "execution_count": 127,
     "metadata": {},
     "output_type": "execute_result"
    }
   ],
   "source": [
    "Y.head()"
   ]
  },
  {
   "cell_type": "markdown",
   "id": "334ba111",
   "metadata": {},
   "source": [
    "## Preprocessing"
   ]
  },
  {
   "cell_type": "markdown",
   "id": "7b32075b",
   "metadata": {},
   "source": [
    "### Encoding categorical features"
   ]
  },
  {
   "cell_type": "code",
   "execution_count": 128,
   "id": "3f0713e6",
   "metadata": {},
   "outputs": [],
   "source": [
    "#updating cat[], con[] list\n",
    "cat = []\n",
    "con = []\n",
    "\n",
    "for i in X.columns:\n",
    "    if(X[i].dtypes == \"object\"):\n",
    "        cat.append(i)\n",
    "    else:\n",
    "        con.append(i)"
   ]
  },
  {
   "cell_type": "code",
   "execution_count": 129,
   "id": "aa431566",
   "metadata": {},
   "outputs": [],
   "source": [
    "#standardizing continous features\n",
    "X1 = pd.DataFrame(mm.fit_transform(X[con]), columns=con)"
   ]
  },
  {
   "cell_type": "code",
   "execution_count": 130,
   "id": "720ff4e4",
   "metadata": {},
   "outputs": [],
   "source": [
    "X2 = pd.get_dummies(X[cat])"
   ]
  },
  {
   "cell_type": "code",
   "execution_count": 131,
   "id": "9098adc1",
   "metadata": {},
   "outputs": [],
   "source": [
    "Xnew = X1.join(X2)"
   ]
  },
  {
   "cell_type": "code",
   "execution_count": 132,
   "id": "fa4065ed",
   "metadata": {},
   "outputs": [
    {
     "data": {
      "text/html": [
       "<div>\n",
       "<style scoped>\n",
       "    .dataframe tbody tr th:only-of-type {\n",
       "        vertical-align: middle;\n",
       "    }\n",
       "\n",
       "    .dataframe tbody tr th {\n",
       "        vertical-align: top;\n",
       "    }\n",
       "\n",
       "    .dataframe thead th {\n",
       "        text-align: right;\n",
       "    }\n",
       "</style>\n",
       "<table border=\"1\" class=\"dataframe\">\n",
       "  <thead>\n",
       "    <tr style=\"text-align: right;\">\n",
       "      <th></th>\n",
       "      <th>CoapplicantIncome</th>\n",
       "      <th>ApplicantIncome</th>\n",
       "      <th>Gender_Female</th>\n",
       "      <th>Gender_Male</th>\n",
       "      <th>Married_No</th>\n",
       "      <th>Married_Yes</th>\n",
       "      <th>Dependents_0</th>\n",
       "      <th>Dependents_1</th>\n",
       "      <th>Dependents_2</th>\n",
       "      <th>Dependents_3+</th>\n",
       "      <th>Education_Graduate</th>\n",
       "      <th>Education_Not Graduate</th>\n",
       "      <th>Self_Employed_No</th>\n",
       "      <th>Self_Employed_Yes</th>\n",
       "    </tr>\n",
       "  </thead>\n",
       "  <tbody>\n",
       "    <tr>\n",
       "      <th>0</th>\n",
       "      <td>0.000000</td>\n",
       "      <td>0.277770</td>\n",
       "      <td>0</td>\n",
       "      <td>1</td>\n",
       "      <td>1</td>\n",
       "      <td>0</td>\n",
       "      <td>1</td>\n",
       "      <td>0</td>\n",
       "      <td>0</td>\n",
       "      <td>0</td>\n",
       "      <td>1</td>\n",
       "      <td>0</td>\n",
       "      <td>1</td>\n",
       "      <td>0</td>\n",
       "    </tr>\n",
       "    <tr>\n",
       "      <th>1</th>\n",
       "      <td>0.167929</td>\n",
       "      <td>0.256155</td>\n",
       "      <td>0</td>\n",
       "      <td>1</td>\n",
       "      <td>0</td>\n",
       "      <td>1</td>\n",
       "      <td>0</td>\n",
       "      <td>1</td>\n",
       "      <td>0</td>\n",
       "      <td>0</td>\n",
       "      <td>1</td>\n",
       "      <td>0</td>\n",
       "      <td>1</td>\n",
       "      <td>0</td>\n",
       "    </tr>\n",
       "    <tr>\n",
       "      <th>2</th>\n",
       "      <td>0.000000</td>\n",
       "      <td>0.138909</td>\n",
       "      <td>0</td>\n",
       "      <td>1</td>\n",
       "      <td>0</td>\n",
       "      <td>1</td>\n",
       "      <td>1</td>\n",
       "      <td>0</td>\n",
       "      <td>0</td>\n",
       "      <td>0</td>\n",
       "      <td>1</td>\n",
       "      <td>0</td>\n",
       "      <td>0</td>\n",
       "      <td>1</td>\n",
       "    </tr>\n",
       "    <tr>\n",
       "      <th>3</th>\n",
       "      <td>0.262584</td>\n",
       "      <td>0.118585</td>\n",
       "      <td>0</td>\n",
       "      <td>1</td>\n",
       "      <td>0</td>\n",
       "      <td>1</td>\n",
       "      <td>1</td>\n",
       "      <td>0</td>\n",
       "      <td>0</td>\n",
       "      <td>0</td>\n",
       "      <td>0</td>\n",
       "      <td>1</td>\n",
       "      <td>1</td>\n",
       "      <td>0</td>\n",
       "    </tr>\n",
       "    <tr>\n",
       "      <th>4</th>\n",
       "      <td>0.000000</td>\n",
       "      <td>0.285129</td>\n",
       "      <td>0</td>\n",
       "      <td>1</td>\n",
       "      <td>1</td>\n",
       "      <td>0</td>\n",
       "      <td>1</td>\n",
       "      <td>0</td>\n",
       "      <td>0</td>\n",
       "      <td>0</td>\n",
       "      <td>1</td>\n",
       "      <td>0</td>\n",
       "      <td>1</td>\n",
       "      <td>0</td>\n",
       "    </tr>\n",
       "  </tbody>\n",
       "</table>\n",
       "</div>"
      ],
      "text/plain": [
       "   CoapplicantIncome  ApplicantIncome  Gender_Female  Gender_Male  Married_No  \\\n",
       "0           0.000000         0.277770              0            1           1   \n",
       "1           0.167929         0.256155              0            1           0   \n",
       "2           0.000000         0.138909              0            1           0   \n",
       "3           0.262584         0.118585              0            1           0   \n",
       "4           0.000000         0.285129              0            1           1   \n",
       "\n",
       "   Married_Yes  Dependents_0  Dependents_1  Dependents_2  Dependents_3+  \\\n",
       "0            0             1             0             0              0   \n",
       "1            1             0             1             0              0   \n",
       "2            1             1             0             0              0   \n",
       "3            1             1             0             0              0   \n",
       "4            0             1             0             0              0   \n",
       "\n",
       "   Education_Graduate  Education_Not Graduate  Self_Employed_No  \\\n",
       "0                   1                       0                 1   \n",
       "1                   1                       0                 1   \n",
       "2                   1                       0                 0   \n",
       "3                   0                       1                 1   \n",
       "4                   1                       0                 1   \n",
       "\n",
       "   Self_Employed_Yes  \n",
       "0                  0  \n",
       "1                  0  \n",
       "2                  1  \n",
       "3                  0  \n",
       "4                  0  "
      ]
     },
     "execution_count": 132,
     "metadata": {},
     "output_type": "execute_result"
    }
   ],
   "source": [
    "Xnew.head()"
   ]
  },
  {
   "cell_type": "markdown",
   "id": "5dd16197",
   "metadata": {},
   "source": [
    "## Splitting the data"
   ]
  },
  {
   "cell_type": "code",
   "execution_count": 133,
   "id": "3ae14626",
   "metadata": {},
   "outputs": [],
   "source": [
    "xtrain, xtest, ytrain, ytest = train_test_split(Xnew, Y, test_size=0.2, random_state=21)"
   ]
  },
  {
   "cell_type": "code",
   "execution_count": 134,
   "id": "f623611c",
   "metadata": {},
   "outputs": [
    {
     "data": {
      "text/html": [
       "<div>\n",
       "<style scoped>\n",
       "    .dataframe tbody tr th:only-of-type {\n",
       "        vertical-align: middle;\n",
       "    }\n",
       "\n",
       "    .dataframe tbody tr th {\n",
       "        vertical-align: top;\n",
       "    }\n",
       "\n",
       "    .dataframe thead th {\n",
       "        text-align: right;\n",
       "    }\n",
       "</style>\n",
       "<table border=\"1\" class=\"dataframe\">\n",
       "  <thead>\n",
       "    <tr style=\"text-align: right;\">\n",
       "      <th></th>\n",
       "      <th>CoapplicantIncome</th>\n",
       "      <th>ApplicantIncome</th>\n",
       "      <th>Gender_Female</th>\n",
       "      <th>Gender_Male</th>\n",
       "      <th>Married_No</th>\n",
       "      <th>Married_Yes</th>\n",
       "      <th>Dependents_0</th>\n",
       "      <th>Dependents_1</th>\n",
       "      <th>Dependents_2</th>\n",
       "      <th>Dependents_3+</th>\n",
       "      <th>Education_Graduate</th>\n",
       "      <th>Education_Not Graduate</th>\n",
       "      <th>Self_Employed_No</th>\n",
       "      <th>Self_Employed_Yes</th>\n",
       "    </tr>\n",
       "  </thead>\n",
       "  <tbody>\n",
       "    <tr>\n",
       "      <th>209</th>\n",
       "      <td>0.191203</td>\n",
       "      <td>0.188088</td>\n",
       "      <td>0</td>\n",
       "      <td>1</td>\n",
       "      <td>0</td>\n",
       "      <td>1</td>\n",
       "      <td>0</td>\n",
       "      <td>0</td>\n",
       "      <td>1</td>\n",
       "      <td>0</td>\n",
       "      <td>1</td>\n",
       "      <td>0</td>\n",
       "      <td>1</td>\n",
       "      <td>0</td>\n",
       "    </tr>\n",
       "    <tr>\n",
       "      <th>82</th>\n",
       "      <td>0.281849</td>\n",
       "      <td>0.108008</td>\n",
       "      <td>0</td>\n",
       "      <td>1</td>\n",
       "      <td>1</td>\n",
       "      <td>0</td>\n",
       "      <td>1</td>\n",
       "      <td>0</td>\n",
       "      <td>0</td>\n",
       "      <td>0</td>\n",
       "      <td>1</td>\n",
       "      <td>0</td>\n",
       "      <td>1</td>\n",
       "      <td>0</td>\n",
       "    </tr>\n",
       "    <tr>\n",
       "      <th>88</th>\n",
       "      <td>0.629621</td>\n",
       "      <td>0.297314</td>\n",
       "      <td>0</td>\n",
       "      <td>1</td>\n",
       "      <td>0</td>\n",
       "      <td>1</td>\n",
       "      <td>0</td>\n",
       "      <td>0</td>\n",
       "      <td>1</td>\n",
       "      <td>0</td>\n",
       "      <td>1</td>\n",
       "      <td>0</td>\n",
       "      <td>1</td>\n",
       "      <td>0</td>\n",
       "    </tr>\n",
       "    <tr>\n",
       "      <th>171</th>\n",
       "      <td>0.563808</td>\n",
       "      <td>0.086075</td>\n",
       "      <td>0</td>\n",
       "      <td>1</td>\n",
       "      <td>1</td>\n",
       "      <td>0</td>\n",
       "      <td>1</td>\n",
       "      <td>0</td>\n",
       "      <td>0</td>\n",
       "      <td>0</td>\n",
       "      <td>1</td>\n",
       "      <td>0</td>\n",
       "      <td>1</td>\n",
       "      <td>0</td>\n",
       "    </tr>\n",
       "    <tr>\n",
       "      <th>533</th>\n",
       "      <td>0.000000</td>\n",
       "      <td>0.210411</td>\n",
       "      <td>0</td>\n",
       "      <td>1</td>\n",
       "      <td>0</td>\n",
       "      <td>1</td>\n",
       "      <td>1</td>\n",
       "      <td>0</td>\n",
       "      <td>0</td>\n",
       "      <td>0</td>\n",
       "      <td>0</td>\n",
       "      <td>1</td>\n",
       "      <td>1</td>\n",
       "      <td>0</td>\n",
       "    </tr>\n",
       "  </tbody>\n",
       "</table>\n",
       "</div>"
      ],
      "text/plain": [
       "     CoapplicantIncome  ApplicantIncome  Gender_Female  Gender_Male  \\\n",
       "209           0.191203         0.188088              0            1   \n",
       "82            0.281849         0.108008              0            1   \n",
       "88            0.629621         0.297314              0            1   \n",
       "171           0.563808         0.086075              0            1   \n",
       "533           0.000000         0.210411              0            1   \n",
       "\n",
       "     Married_No  Married_Yes  Dependents_0  Dependents_1  Dependents_2  \\\n",
       "209           0            1             0             0             1   \n",
       "82            1            0             1             0             0   \n",
       "88            0            1             0             0             1   \n",
       "171           1            0             1             0             0   \n",
       "533           0            1             1             0             0   \n",
       "\n",
       "     Dependents_3+  Education_Graduate  Education_Not Graduate  \\\n",
       "209              0                   1                       0   \n",
       "82               0                   1                       0   \n",
       "88               0                   1                       0   \n",
       "171              0                   1                       0   \n",
       "533              0                   0                       1   \n",
       "\n",
       "     Self_Employed_No  Self_Employed_Yes  \n",
       "209                 1                  0  \n",
       "82                  1                  0  \n",
       "88                  1                  0  \n",
       "171                 1                  0  \n",
       "533                 1                  0  "
      ]
     },
     "execution_count": 134,
     "metadata": {},
     "output_type": "execute_result"
    }
   ],
   "source": [
    "xtrain.head()"
   ]
  },
  {
   "cell_type": "code",
   "execution_count": 135,
   "id": "45b601f6",
   "metadata": {},
   "outputs": [
    {
     "data": {
      "text/html": [
       "<div>\n",
       "<style scoped>\n",
       "    .dataframe tbody tr th:only-of-type {\n",
       "        vertical-align: middle;\n",
       "    }\n",
       "\n",
       "    .dataframe tbody tr th {\n",
       "        vertical-align: top;\n",
       "    }\n",
       "\n",
       "    .dataframe thead th {\n",
       "        text-align: right;\n",
       "    }\n",
       "</style>\n",
       "<table border=\"1\" class=\"dataframe\">\n",
       "  <thead>\n",
       "    <tr style=\"text-align: right;\">\n",
       "      <th></th>\n",
       "      <th>CoapplicantIncome</th>\n",
       "      <th>ApplicantIncome</th>\n",
       "      <th>Gender_Female</th>\n",
       "      <th>Gender_Male</th>\n",
       "      <th>Married_No</th>\n",
       "      <th>Married_Yes</th>\n",
       "      <th>Dependents_0</th>\n",
       "      <th>Dependents_1</th>\n",
       "      <th>Dependents_2</th>\n",
       "      <th>Dependents_3+</th>\n",
       "      <th>Education_Graduate</th>\n",
       "      <th>Education_Not Graduate</th>\n",
       "      <th>Self_Employed_No</th>\n",
       "      <th>Self_Employed_Yes</th>\n",
       "    </tr>\n",
       "  </thead>\n",
       "  <tbody>\n",
       "    <tr>\n",
       "      <th>492</th>\n",
       "      <td>0.193987</td>\n",
       "      <td>0.099527</td>\n",
       "      <td>0</td>\n",
       "      <td>1</td>\n",
       "      <td>0</td>\n",
       "      <td>1</td>\n",
       "      <td>0</td>\n",
       "      <td>0</td>\n",
       "      <td>1</td>\n",
       "      <td>0</td>\n",
       "      <td>0</td>\n",
       "      <td>1</td>\n",
       "      <td>1</td>\n",
       "      <td>0</td>\n",
       "    </tr>\n",
       "    <tr>\n",
       "      <th>109</th>\n",
       "      <td>0.000000</td>\n",
       "      <td>0.355851</td>\n",
       "      <td>1</td>\n",
       "      <td>0</td>\n",
       "      <td>1</td>\n",
       "      <td>0</td>\n",
       "      <td>0</td>\n",
       "      <td>1</td>\n",
       "      <td>0</td>\n",
       "      <td>0</td>\n",
       "      <td>1</td>\n",
       "      <td>0</td>\n",
       "      <td>0</td>\n",
       "      <td>1</td>\n",
       "    </tr>\n",
       "    <tr>\n",
       "      <th>4</th>\n",
       "      <td>0.000000</td>\n",
       "      <td>0.285129</td>\n",
       "      <td>0</td>\n",
       "      <td>1</td>\n",
       "      <td>1</td>\n",
       "      <td>0</td>\n",
       "      <td>1</td>\n",
       "      <td>0</td>\n",
       "      <td>0</td>\n",
       "      <td>0</td>\n",
       "      <td>1</td>\n",
       "      <td>0</td>\n",
       "      <td>1</td>\n",
       "      <td>0</td>\n",
       "    </tr>\n",
       "    <tr>\n",
       "      <th>204</th>\n",
       "      <td>0.200445</td>\n",
       "      <td>0.000000</td>\n",
       "      <td>0</td>\n",
       "      <td>1</td>\n",
       "      <td>0</td>\n",
       "      <td>1</td>\n",
       "      <td>1</td>\n",
       "      <td>0</td>\n",
       "      <td>0</td>\n",
       "      <td>0</td>\n",
       "      <td>1</td>\n",
       "      <td>0</td>\n",
       "      <td>1</td>\n",
       "      <td>0</td>\n",
       "    </tr>\n",
       "    <tr>\n",
       "      <th>421</th>\n",
       "      <td>0.134744</td>\n",
       "      <td>0.161622</td>\n",
       "      <td>0</td>\n",
       "      <td>1</td>\n",
       "      <td>0</td>\n",
       "      <td>1</td>\n",
       "      <td>0</td>\n",
       "      <td>1</td>\n",
       "      <td>0</td>\n",
       "      <td>0</td>\n",
       "      <td>1</td>\n",
       "      <td>0</td>\n",
       "      <td>0</td>\n",
       "      <td>1</td>\n",
       "    </tr>\n",
       "  </tbody>\n",
       "</table>\n",
       "</div>"
      ],
      "text/plain": [
       "     CoapplicantIncome  ApplicantIncome  Gender_Female  Gender_Male  \\\n",
       "492           0.193987         0.099527              0            1   \n",
       "109           0.000000         0.355851              1            0   \n",
       "4             0.000000         0.285129              0            1   \n",
       "204           0.200445         0.000000              0            1   \n",
       "421           0.134744         0.161622              0            1   \n",
       "\n",
       "     Married_No  Married_Yes  Dependents_0  Dependents_1  Dependents_2  \\\n",
       "492           0            1             0             0             1   \n",
       "109           1            0             0             1             0   \n",
       "4             1            0             1             0             0   \n",
       "204           0            1             1             0             0   \n",
       "421           0            1             0             1             0   \n",
       "\n",
       "     Dependents_3+  Education_Graduate  Education_Not Graduate  \\\n",
       "492              0                   0                       1   \n",
       "109              0                   1                       0   \n",
       "4                0                   1                       0   \n",
       "204              0                   1                       0   \n",
       "421              0                   1                       0   \n",
       "\n",
       "     Self_Employed_No  Self_Employed_Yes  \n",
       "492                 1                  0  \n",
       "109                 0                  1  \n",
       "4                   1                  0  \n",
       "204                 1                  0  \n",
       "421                 0                  1  "
      ]
     },
     "execution_count": 135,
     "metadata": {},
     "output_type": "execute_result"
    }
   ],
   "source": [
    "xtest.head()"
   ]
  },
  {
   "cell_type": "code",
   "execution_count": 136,
   "id": "bc07e345",
   "metadata": {},
   "outputs": [
    {
     "data": {
      "text/html": [
       "<div>\n",
       "<style scoped>\n",
       "    .dataframe tbody tr th:only-of-type {\n",
       "        vertical-align: middle;\n",
       "    }\n",
       "\n",
       "    .dataframe tbody tr th {\n",
       "        vertical-align: top;\n",
       "    }\n",
       "\n",
       "    .dataframe thead th {\n",
       "        text-align: right;\n",
       "    }\n",
       "</style>\n",
       "<table border=\"1\" class=\"dataframe\">\n",
       "  <thead>\n",
       "    <tr style=\"text-align: right;\">\n",
       "      <th></th>\n",
       "      <th>Loan_Amount_Term</th>\n",
       "    </tr>\n",
       "  </thead>\n",
       "  <tbody>\n",
       "    <tr>\n",
       "      <th>209</th>\n",
       "      <td>360.0</td>\n",
       "    </tr>\n",
       "    <tr>\n",
       "      <th>82</th>\n",
       "      <td>360.0</td>\n",
       "    </tr>\n",
       "    <tr>\n",
       "      <th>88</th>\n",
       "      <td>180.0</td>\n",
       "    </tr>\n",
       "    <tr>\n",
       "      <th>171</th>\n",
       "      <td>360.0</td>\n",
       "    </tr>\n",
       "    <tr>\n",
       "      <th>533</th>\n",
       "      <td>360.0</td>\n",
       "    </tr>\n",
       "  </tbody>\n",
       "</table>\n",
       "</div>"
      ],
      "text/plain": [
       "     Loan_Amount_Term\n",
       "209             360.0\n",
       "82              360.0\n",
       "88              180.0\n",
       "171             360.0\n",
       "533             360.0"
      ]
     },
     "execution_count": 136,
     "metadata": {},
     "output_type": "execute_result"
    }
   ],
   "source": [
    "ytrain.head()"
   ]
  },
  {
   "cell_type": "code",
   "execution_count": 137,
   "id": "f599bf34",
   "metadata": {},
   "outputs": [
    {
     "data": {
      "text/html": [
       "<div>\n",
       "<style scoped>\n",
       "    .dataframe tbody tr th:only-of-type {\n",
       "        vertical-align: middle;\n",
       "    }\n",
       "\n",
       "    .dataframe tbody tr th {\n",
       "        vertical-align: top;\n",
       "    }\n",
       "\n",
       "    .dataframe thead th {\n",
       "        text-align: right;\n",
       "    }\n",
       "</style>\n",
       "<table border=\"1\" class=\"dataframe\">\n",
       "  <thead>\n",
       "    <tr style=\"text-align: right;\">\n",
       "      <th></th>\n",
       "      <th>Loan_Amount_Term</th>\n",
       "    </tr>\n",
       "  </thead>\n",
       "  <tbody>\n",
       "    <tr>\n",
       "      <th>492</th>\n",
       "      <td>360.0</td>\n",
       "    </tr>\n",
       "    <tr>\n",
       "      <th>109</th>\n",
       "      <td>360.0</td>\n",
       "    </tr>\n",
       "    <tr>\n",
       "      <th>4</th>\n",
       "      <td>360.0</td>\n",
       "    </tr>\n",
       "    <tr>\n",
       "      <th>204</th>\n",
       "      <td>360.0</td>\n",
       "    </tr>\n",
       "    <tr>\n",
       "      <th>421</th>\n",
       "      <td>360.0</td>\n",
       "    </tr>\n",
       "  </tbody>\n",
       "</table>\n",
       "</div>"
      ],
      "text/plain": [
       "     Loan_Amount_Term\n",
       "492             360.0\n",
       "109             360.0\n",
       "4               360.0\n",
       "204             360.0\n",
       "421             360.0"
      ]
     },
     "execution_count": 137,
     "metadata": {},
     "output_type": "execute_result"
    }
   ],
   "source": [
    "ytest.head()"
   ]
  },
  {
   "cell_type": "markdown",
   "id": "3430ef1c",
   "metadata": {},
   "source": [
    "## Linear Regression"
   ]
  },
  {
   "cell_type": "code",
   "execution_count": 138,
   "id": "e381689b",
   "metadata": {},
   "outputs": [
    {
     "data": {
      "text/plain": [
       "(28.704813819525302, 27.70018152391102)"
      ]
     },
     "execution_count": 138,
     "metadata": {},
     "output_type": "execute_result"
    }
   ],
   "source": [
    "xtrain, xtest, ytrain, ytest = train_test_split(Xnew, Y, test_size=0.2, random_state=31)\n",
    "\n",
    "lm = LinearRegression()\n",
    "model = lm.fit(xtrain, ytrain)\n",
    "tr_pred = model.predict(xtrain)\n",
    "ts_pred = model.predict(xtest)\n",
    "\n",
    "from sklearn.metrics import mean_absolute_error\n",
    "tr_err = mean_absolute_error(ytrain, tr_pred)\n",
    "ts_err = mean_absolute_error(ytest, ts_pred)\n",
    "\n",
    "tr_err, ts_err"
   ]
  },
  {
   "cell_type": "markdown",
   "id": "20bfa6e1",
   "metadata": {},
   "source": [
    "## Lasso Regression"
   ]
  },
  {
   "cell_type": "code",
   "execution_count": 139,
   "id": "f7eab3b8",
   "metadata": {},
   "outputs": [],
   "source": [
    "x = 0.01\n",
    "alphas = []\n",
    "for i in range(0,1050,1):\n",
    "    alphas.append(x)\n",
    "    x = round(x + 0.01,2)"
   ]
  },
  {
   "cell_type": "code",
   "execution_count": 140,
   "id": "abeff40a",
   "metadata": {},
   "outputs": [
    {
     "data": {
      "text/plain": [
       "{'alpha': 1.15}"
      ]
     },
     "execution_count": 140,
     "metadata": {},
     "output_type": "execute_result"
    }
   ],
   "source": [
    "tuning_grid = {\"alpha\":alphas}\n",
    "ls = Lasso(random_state=21)\n",
    "\n",
    "cv = GridSearchCV(ls, tuning_grid, scoring = \"neg_mean_absolute_error\", cv=4)\n",
    "cvmodel = cv.fit(Xnew,Y)\n",
    "cvmodel.best_params_"
   ]
  },
  {
   "cell_type": "code",
   "execution_count": 141,
   "id": "d7c5ec2e",
   "metadata": {},
   "outputs": [
    {
     "name": "stdout",
     "output_type": "stream",
     "text": [
      "28.410966416572002 27.334370361282275 -1.076596055289727\n"
     ]
    }
   ],
   "source": [
    "ls = Lasso(alpha=0.29)\n",
    "model = ls.fit(xtrain,ytrain)\n",
    "tr_pred = model.predict(xtrain)\n",
    "ts_pred = model.predict(xtest)\n",
    "\n",
    "tr_err = mean_absolute_error(ytrain,tr_pred)\n",
    "ts_err = mean_absolute_error(ytest,ts_pred)\n",
    "\n",
    "print(tr_err, ts_err, ts_err - tr_err)"
   ]
  },
  {
   "cell_type": "markdown",
   "id": "fe4db6f8",
   "metadata": {},
   "source": [
    "## Ridge Regression"
   ]
  },
  {
   "cell_type": "code",
   "execution_count": 142,
   "id": "8a512a5d",
   "metadata": {},
   "outputs": [
    {
     "data": {
      "text/plain": [
       "{'alpha': 10.5}"
      ]
     },
     "execution_count": 142,
     "metadata": {},
     "output_type": "execute_result"
    }
   ],
   "source": [
    "tuning_grid = {\"alpha\":alphas}\n",
    "rr = Ridge(random_state=21)\n",
    "\n",
    "from sklearn.model_selection import GridSearchCV\n",
    "cv = GridSearchCV(rr, tuning_grid, scoring = \"neg_mean_absolute_error\", cv=4)\n",
    "cvmodel = cv.fit(Xnew,Y)\n",
    "cvmodel.best_params_"
   ]
  },
  {
   "cell_type": "code",
   "execution_count": 143,
   "id": "edd5d041",
   "metadata": {},
   "outputs": [
    {
     "name": "stdout",
     "output_type": "stream",
     "text": [
      "28.57441313362339 27.52292626829553 -1.0514868653278597\n"
     ]
    }
   ],
   "source": [
    "rr = Ridge(alpha=10.5)\n",
    "model = rr.fit(xtrain,ytrain)\n",
    "tr_pred = model.predict(xtrain)\n",
    "ts_pred = model.predict(xtest)\n",
    "\n",
    "tr_err = mean_absolute_error(ytrain,tr_pred)\n",
    "ts_err = mean_absolute_error(ytest,ts_pred)\n",
    "\n",
    "print(tr_err, ts_err, ts_err-tr_err)"
   ]
  },
  {
   "cell_type": "markdown",
   "id": "0a19f26c",
   "metadata": {},
   "source": [
    "## AdaBoost"
   ]
  },
  {
   "cell_type": "code",
   "execution_count": 144,
   "id": "dc82d5ec",
   "metadata": {},
   "outputs": [
    {
     "name": "stdout",
     "output_type": "stream",
     "text": [
      "42.10033082552392 43.619266692985406 -1.5189358674614866\n"
     ]
    }
   ],
   "source": [
    "abr = AdaBoostRegressor(DecisionTreeRegressor(random_state=21,max_depth=2))\n",
    "model = abr.fit(xtrain,ytrain)\n",
    "\n",
    "tr_pred = model.predict(xtrain)\n",
    "ts_pred = model.predict(xtest)\n",
    "\n",
    "tr_err = mean_absolute_error(ytrain,tr_pred)\n",
    "ts_err  = mean_absolute_error(ytest,ts_pred)\n",
    "\n",
    "print(tr_err, ts_err, tr_err-ts_err)\n"
   ]
  },
  {
   "cell_type": "code",
   "execution_count": 145,
   "id": "2f111c5d",
   "metadata": {},
   "outputs": [
    {
     "data": {
      "text/plain": [
       "{'n_estimators': 2}"
      ]
     },
     "execution_count": 145,
     "metadata": {},
     "output_type": "execute_result"
    }
   ],
   "source": [
    "#GridSearch CV for hyperparameter tuning\n",
    "tg = {\"n_estimators\":range(2,30,10)}\n",
    "\n",
    "dtc = DecisionTreeRegressor(random_state=21, max_depth=2)\n",
    "abc = AdaBoostRegressor(dtc)\n",
    "\n",
    "from sklearn.model_selection import GridSearchCV\n",
    "cv = GridSearchCV(abc, tg, scoring = \"neg_mean_absolute_error\", cv=4)\n",
    "cvmodel = cv.fit(Xnew, Y)\n",
    "cvmodel.best_params_"
   ]
  },
  {
   "cell_type": "code",
   "execution_count": 146,
   "id": "3dcdb7e4",
   "metadata": {},
   "outputs": [
    {
     "name": "stdout",
     "output_type": "stream",
     "text": [
      "37.31014153927295 37.58949498183719 -0.27935344256424344\n"
     ]
    }
   ],
   "source": [
    "abr = AdaBoostRegressor(DecisionTreeRegressor(random_state=21, max_depth=2), n_estimators=22)\n",
    "model = abr.fit(xtrain,ytrain)\n",
    "\n",
    "tr_pred = model.predict(xtrain)\n",
    "ts_pred = model.predict(xtest)\n",
    "\n",
    "tr_err = mean_absolute_error(ytrain,tr_pred)\n",
    "ts_err  = mean_absolute_error(ytest,ts_pred)\n",
    "\n",
    "print(tr_err, ts_err, tr_err-ts_err)"
   ]
  },
  {
   "cell_type": "markdown",
   "id": "e2c50f2c",
   "metadata": {},
   "source": [
    "## Final Model - Ridge Regression for 'Loan_Amount_Term'"
   ]
  },
  {
   "cell_type": "code",
   "execution_count": 147,
   "id": "a2a7327e",
   "metadata": {},
   "outputs": [],
   "source": [
    "rr = Ridge(alpha=0.01)\n",
    "loanTerm_model = rr.fit(Xnew, Y)"
   ]
  },
  {
   "cell_type": "code",
   "execution_count": 148,
   "id": "1369c1eb",
   "metadata": {},
   "outputs": [],
   "source": [
    "pkl.dump(loanTerm_model, open(\"loanTerm_model.pkl\", \"wb\"))"
   ]
  },
  {
   "cell_type": "markdown",
   "id": "c7ac1429",
   "metadata": {},
   "source": [
    "## Clustering"
   ]
  },
  {
   "cell_type": "code",
   "execution_count": 149,
   "id": "80283d41",
   "metadata": {},
   "outputs": [
    {
     "data": {
      "text/html": [
       "<div>\n",
       "<style scoped>\n",
       "    .dataframe tbody tr th:only-of-type {\n",
       "        vertical-align: middle;\n",
       "    }\n",
       "\n",
       "    .dataframe tbody tr th {\n",
       "        vertical-align: top;\n",
       "    }\n",
       "\n",
       "    .dataframe thead th {\n",
       "        text-align: right;\n",
       "    }\n",
       "</style>\n",
       "<table border=\"1\" class=\"dataframe\">\n",
       "  <thead>\n",
       "    <tr style=\"text-align: right;\">\n",
       "      <th></th>\n",
       "      <th>Gender</th>\n",
       "      <th>Married</th>\n",
       "      <th>Dependents</th>\n",
       "      <th>Education</th>\n",
       "      <th>Self_Employed</th>\n",
       "      <th>ApplicantIncome</th>\n",
       "      <th>CoapplicantIncome</th>\n",
       "      <th>LoanAmount</th>\n",
       "      <th>Loan_Amount_Term</th>\n",
       "      <th>Credit_History</th>\n",
       "      <th>Property_Area</th>\n",
       "      <th>Loan_Status</th>\n",
       "    </tr>\n",
       "  </thead>\n",
       "  <tbody>\n",
       "    <tr>\n",
       "      <th>0</th>\n",
       "      <td>Male</td>\n",
       "      <td>No</td>\n",
       "      <td>0</td>\n",
       "      <td>Graduate</td>\n",
       "      <td>No</td>\n",
       "      <td>5849.000</td>\n",
       "      <td>0.0</td>\n",
       "      <td>146.412</td>\n",
       "      <td>360.0</td>\n",
       "      <td>1.0</td>\n",
       "      <td>Urban</td>\n",
       "      <td>Y</td>\n",
       "    </tr>\n",
       "    <tr>\n",
       "      <th>1</th>\n",
       "      <td>Male</td>\n",
       "      <td>Yes</td>\n",
       "      <td>1</td>\n",
       "      <td>Graduate</td>\n",
       "      <td>No</td>\n",
       "      <td>5405.541</td>\n",
       "      <td>1508.0</td>\n",
       "      <td>128.000</td>\n",
       "      <td>360.0</td>\n",
       "      <td>1.0</td>\n",
       "      <td>Rural</td>\n",
       "      <td>N</td>\n",
       "    </tr>\n",
       "    <tr>\n",
       "      <th>2</th>\n",
       "      <td>Male</td>\n",
       "      <td>Yes</td>\n",
       "      <td>0</td>\n",
       "      <td>Graduate</td>\n",
       "      <td>Yes</td>\n",
       "      <td>3000.000</td>\n",
       "      <td>0.0</td>\n",
       "      <td>66.000</td>\n",
       "      <td>360.0</td>\n",
       "      <td>1.0</td>\n",
       "      <td>Urban</td>\n",
       "      <td>Y</td>\n",
       "    </tr>\n",
       "    <tr>\n",
       "      <th>3</th>\n",
       "      <td>Male</td>\n",
       "      <td>Yes</td>\n",
       "      <td>0</td>\n",
       "      <td>Not Graduate</td>\n",
       "      <td>No</td>\n",
       "      <td>2583.000</td>\n",
       "      <td>2358.0</td>\n",
       "      <td>120.000</td>\n",
       "      <td>360.0</td>\n",
       "      <td>1.0</td>\n",
       "      <td>Urban</td>\n",
       "      <td>Y</td>\n",
       "    </tr>\n",
       "    <tr>\n",
       "      <th>4</th>\n",
       "      <td>Male</td>\n",
       "      <td>No</td>\n",
       "      <td>0</td>\n",
       "      <td>Graduate</td>\n",
       "      <td>No</td>\n",
       "      <td>6000.000</td>\n",
       "      <td>0.0</td>\n",
       "      <td>141.000</td>\n",
       "      <td>360.0</td>\n",
       "      <td>1.0</td>\n",
       "      <td>Urban</td>\n",
       "      <td>Y</td>\n",
       "    </tr>\n",
       "  </tbody>\n",
       "</table>\n",
       "</div>"
      ],
      "text/plain": [
       "  Gender Married Dependents     Education Self_Employed  ApplicantIncome  \\\n",
       "0   Male      No          0      Graduate            No         5849.000   \n",
       "1   Male     Yes          1      Graduate            No         5405.541   \n",
       "2   Male     Yes          0      Graduate           Yes         3000.000   \n",
       "3   Male     Yes          0  Not Graduate            No         2583.000   \n",
       "4   Male      No          0      Graduate            No         6000.000   \n",
       "\n",
       "   CoapplicantIncome  LoanAmount  Loan_Amount_Term  Credit_History  \\\n",
       "0                0.0     146.412             360.0             1.0   \n",
       "1             1508.0     128.000             360.0             1.0   \n",
       "2                0.0      66.000             360.0             1.0   \n",
       "3             2358.0     120.000             360.0             1.0   \n",
       "4                0.0     141.000             360.0             1.0   \n",
       "\n",
       "  Property_Area Loan_Status  \n",
       "0         Urban           Y  \n",
       "1         Rural           N  \n",
       "2         Urban           Y  \n",
       "3         Urban           Y  \n",
       "4         Urban           Y  "
      ]
     },
     "execution_count": 149,
     "metadata": {},
     "output_type": "execute_result"
    }
   ],
   "source": [
    "A.head()"
   ]
  },
  {
   "cell_type": "code",
   "execution_count": 150,
   "id": "8ccbc74c",
   "metadata": {},
   "outputs": [],
   "source": [
    "C = A[[\"ApplicantIncome\", \"LoanAmount\"]]"
   ]
  },
  {
   "cell_type": "code",
   "execution_count": 151,
   "id": "a198c03e",
   "metadata": {},
   "outputs": [
    {
     "data": {
      "text/html": [
       "<div>\n",
       "<style scoped>\n",
       "    .dataframe tbody tr th:only-of-type {\n",
       "        vertical-align: middle;\n",
       "    }\n",
       "\n",
       "    .dataframe tbody tr th {\n",
       "        vertical-align: top;\n",
       "    }\n",
       "\n",
       "    .dataframe thead th {\n",
       "        text-align: right;\n",
       "    }\n",
       "</style>\n",
       "<table border=\"1\" class=\"dataframe\">\n",
       "  <thead>\n",
       "    <tr style=\"text-align: right;\">\n",
       "      <th></th>\n",
       "      <th>ApplicantIncome</th>\n",
       "      <th>LoanAmount</th>\n",
       "    </tr>\n",
       "  </thead>\n",
       "  <tbody>\n",
       "    <tr>\n",
       "      <th>0</th>\n",
       "      <td>5849.000</td>\n",
       "      <td>146.412</td>\n",
       "    </tr>\n",
       "    <tr>\n",
       "      <th>1</th>\n",
       "      <td>5405.541</td>\n",
       "      <td>128.000</td>\n",
       "    </tr>\n",
       "    <tr>\n",
       "      <th>2</th>\n",
       "      <td>3000.000</td>\n",
       "      <td>66.000</td>\n",
       "    </tr>\n",
       "    <tr>\n",
       "      <th>3</th>\n",
       "      <td>2583.000</td>\n",
       "      <td>120.000</td>\n",
       "    </tr>\n",
       "    <tr>\n",
       "      <th>4</th>\n",
       "      <td>6000.000</td>\n",
       "      <td>141.000</td>\n",
       "    </tr>\n",
       "  </tbody>\n",
       "</table>\n",
       "</div>"
      ],
      "text/plain": [
       "   ApplicantIncome  LoanAmount\n",
       "0         5849.000     146.412\n",
       "1         5405.541     128.000\n",
       "2         3000.000      66.000\n",
       "3         2583.000     120.000\n",
       "4         6000.000     141.000"
      ]
     },
     "execution_count": 151,
     "metadata": {},
     "output_type": "execute_result"
    }
   ],
   "source": [
    "C.head()"
   ]
  },
  {
   "cell_type": "code",
   "execution_count": 152,
   "id": "a8f78c65",
   "metadata": {},
   "outputs": [],
   "source": [
    "# updating cat[] and con[]\n",
    "cat = []\n",
    "con = []\n",
    "\n",
    "for i in C.columns:\n",
    "    if(C[i].dtypes == \"object\"):\n",
    "        cat.append(i)\n",
    "    else:\n",
    "        con.append(i)"
   ]
  },
  {
   "cell_type": "code",
   "execution_count": 153,
   "id": "a83a29f7",
   "metadata": {},
   "outputs": [],
   "source": [
    "mm = MinMaxScaler()\n",
    "Q = pd.DataFrame(mm.fit_transform(A[con]), columns=con)"
   ]
  },
  {
   "cell_type": "code",
   "execution_count": 154,
   "id": "63ca3e4c",
   "metadata": {},
   "outputs": [
    {
     "data": {
      "text/plain": [
       "(577, 12)"
      ]
     },
     "execution_count": 154,
     "metadata": {},
     "output_type": "execute_result"
    }
   ],
   "source": [
    "A.shape"
   ]
  },
  {
   "cell_type": "code",
   "execution_count": 155,
   "id": "6e744b99",
   "metadata": {},
   "outputs": [],
   "source": [
    "from sklearn.preprocessing import MinMaxScaler\n",
    "Cnew = pd.DataFrame(mm.transform(C[C.columns]), columns=C.columns)"
   ]
  },
  {
   "cell_type": "code",
   "execution_count": 156,
   "id": "60ded81f",
   "metadata": {},
   "outputs": [
    {
     "data": {
      "text/html": [
       "<div>\n",
       "<style scoped>\n",
       "    .dataframe tbody tr th:only-of-type {\n",
       "        vertical-align: middle;\n",
       "    }\n",
       "\n",
       "    .dataframe tbody tr th {\n",
       "        vertical-align: top;\n",
       "    }\n",
       "\n",
       "    .dataframe thead th {\n",
       "        text-align: right;\n",
       "    }\n",
       "</style>\n",
       "<table border=\"1\" class=\"dataframe\">\n",
       "  <thead>\n",
       "    <tr style=\"text-align: right;\">\n",
       "      <th></th>\n",
       "      <th>ApplicantIncome</th>\n",
       "      <th>LoanAmount</th>\n",
       "    </tr>\n",
       "  </thead>\n",
       "  <tbody>\n",
       "    <tr>\n",
       "      <th>0</th>\n",
       "      <td>0.277770</td>\n",
       "      <td>0.370383</td>\n",
       "    </tr>\n",
       "    <tr>\n",
       "      <th>1</th>\n",
       "      <td>0.256155</td>\n",
       "      <td>0.320755</td>\n",
       "    </tr>\n",
       "    <tr>\n",
       "      <th>2</th>\n",
       "      <td>0.138909</td>\n",
       "      <td>0.153639</td>\n",
       "    </tr>\n",
       "    <tr>\n",
       "      <th>3</th>\n",
       "      <td>0.118585</td>\n",
       "      <td>0.299191</td>\n",
       "    </tr>\n",
       "    <tr>\n",
       "      <th>4</th>\n",
       "      <td>0.285129</td>\n",
       "      <td>0.355795</td>\n",
       "    </tr>\n",
       "  </tbody>\n",
       "</table>\n",
       "</div>"
      ],
      "text/plain": [
       "   ApplicantIncome  LoanAmount\n",
       "0         0.277770    0.370383\n",
       "1         0.256155    0.320755\n",
       "2         0.138909    0.153639\n",
       "3         0.118585    0.299191\n",
       "4         0.285129    0.355795"
      ]
     },
     "execution_count": 156,
     "metadata": {},
     "output_type": "execute_result"
    }
   ],
   "source": [
    "Cnew.head()"
   ]
  },
  {
   "cell_type": "markdown",
   "id": "b286c2f2",
   "metadata": {},
   "source": [
    "## Elbow curve graph for determing optimum no. of clusters"
   ]
  },
  {
   "cell_type": "code",
   "execution_count": 157,
   "id": "9e2aa7b0",
   "metadata": {},
   "outputs": [],
   "source": [
    "import matplotlib.pyplot as plt\n",
    "\n",
    "K= range(2,20,1)\n",
    "WCSS = []\n",
    "\n",
    "for i in K:\n",
    "    from sklearn.cluster import KMeans\n",
    "    km = KMeans(n_clusters=i)\n",
    "    clustering_model = km.fit(Cnew)\n",
    "    WCSS.append(clustering_model.inertia_)"
   ]
  },
  {
   "cell_type": "code",
   "execution_count": 158,
   "id": "56537a1d",
   "metadata": {},
   "outputs": [
    {
     "data": {
      "text/plain": [
       "<matplotlib.collections.PathCollection at 0x135a12f29a0>"
      ]
     },
     "execution_count": 158,
     "metadata": {},
     "output_type": "execute_result"
    },
    {
     "data": {
      "image/png": "[encoded data removed]",
      "text/plain": [
       "<Figure size 640x480 with 1 Axes>"
      ]
     },
     "metadata": {},
     "output_type": "display_data"
    }
   ],
   "source": [
    "plt.plot(K,WCSS)\n",
    "plt.scatter(K,WCSS)"
   ]
  },
  {
   "cell_type": "markdown",
   "id": "422a86c4",
   "metadata": {},
   "source": [
    "From the above graph we can say 10 is no. of clusters that should be formed."
   ]
  },
  {
   "cell_type": "markdown",
   "id": "a56c844b",
   "metadata": {},
   "source": [
    "## Cluster Model"
   ]
  },
  {
   "cell_type": "code",
   "execution_count": 159,
   "id": "f8b14e49",
   "metadata": {},
   "outputs": [],
   "source": [
    "from sklearn.cluster import KMeans\n",
    "km = KMeans(n_clusters=10)"
   ]
  },
  {
   "cell_type": "code",
   "execution_count": 160,
   "id": "c865be38",
   "metadata": {},
   "outputs": [],
   "source": [
    "clustering_model = km.fit(Cnew)"
   ]
  },
  {
   "cell_type": "code",
   "execution_count": 161,
   "id": "d07b5b03",
   "metadata": {},
   "outputs": [
    {
     "data": {
      "text/plain": [
       "array([3, 3, 2, 7, 3, 6, 7, 0, 0, 2, 7, 0, 7, 3, 9, 2, 9, 7, 3, 6, 7, 9,\n",
       "       0, 1, 7, 9, 2, 9, 4, 2, 9, 9, 5, 0, 7, 0, 4, 9, 2, 2, 2, 9, 9, 7,\n",
       "       2, 3, 7, 0, 7, 7, 9, 9, 5, 7, 7, 0, 1, 0, 7, 7, 0, 3, 9, 6, 9, 6,\n",
       "       9, 0, 7, 2, 9, 4, 9, 0, 7, 0, 9, 9, 0, 0, 6, 2, 0, 7, 7, 1, 4, 0,\n",
       "       4, 2, 9, 3, 0, 2, 9, 7, 9, 0, 8, 0, 0, 7, 1, 3, 4, 7, 3, 0, 0, 3,\n",
       "       9, 5, 0, 7, 4, 6, 4, 2, 0, 2, 4, 9, 0, 1, 4, 2, 2, 9, 6, 9, 7, 5,\n",
       "       9, 4, 4, 4, 7, 1, 7, 8, 2, 1, 9, 3, 0, 6, 7, 2, 3, 1, 7, 6, 7, 6,\n",
       "       7, 0, 3, 0, 9, 7, 2, 1, 7, 2, 4, 9, 9, 7, 9, 7, 4, 2, 2, 9, 2, 2,\n",
       "       0, 1, 2, 1, 3, 2, 9, 0, 1, 7, 9, 8, 7, 4, 0, 0, 9, 9, 2, 2, 2, 9,\n",
       "       1, 9, 6, 3, 0, 9, 7, 9, 2, 9, 2, 9, 0, 1, 3, 0, 9, 4, 0, 4, 7, 2,\n",
       "       9, 6, 0, 4, 6, 9, 9, 7, 3, 0, 3, 9, 3, 3, 3, 7, 7, 0, 0, 7, 6, 5,\n",
       "       4, 3, 9, 5, 9, 6, 7, 3, 9, 0, 0, 0, 0, 7, 2, 1, 7, 0, 9, 7, 4, 2,\n",
       "       9, 0, 9, 2, 2, 8, 7, 7, 9, 9, 1, 0, 9, 0, 3, 0, 9, 4, 9, 3, 7, 7,\n",
       "       7, 9, 7, 0, 0, 9, 7, 1, 2, 7, 2, 0, 9, 9, 7, 9, 1, 7, 9, 0, 0, 5,\n",
       "       6, 9, 4, 9, 2, 9, 7, 2, 1, 2, 4, 0, 0, 2, 0, 2, 0, 2, 7, 0, 0, 9,\n",
       "       6, 0, 1, 6, 7, 9, 7, 9, 1, 2, 7, 4, 2, 4, 9, 7, 3, 3, 7, 9, 4, 8,\n",
       "       3, 6, 7, 7, 9, 3, 9, 2, 3, 9, 6, 3, 3, 9, 9, 7, 0, 0, 3, 1, 6, 7,\n",
       "       7, 7, 0, 2, 7, 9, 7, 2, 2, 2, 4, 9, 7, 2, 3, 2, 3, 4, 7, 0, 2, 0,\n",
       "       7, 0, 3, 2, 7, 3, 8, 7, 2, 3, 7, 2, 1, 3, 0, 9, 1, 2, 0, 1, 3, 0,\n",
       "       1, 0, 4, 9, 9, 2, 0, 0, 7, 2, 0, 7, 3, 9, 9, 0, 9, 1, 0, 3, 0, 3,\n",
       "       9, 3, 2, 8, 7, 9, 0, 7, 9, 7, 4, 8, 4, 0, 8, 0, 0, 7, 7, 1, 6, 7,\n",
       "       2, 0, 2, 7, 4, 9, 5, 9, 7, 7, 4, 7, 7, 4, 9, 9, 4, 9, 0, 8, 9, 6,\n",
       "       0, 2, 6, 0, 7, 7, 4, 7, 2, 2, 9, 0, 9, 4, 7, 3, 0, 9, 9, 1, 8, 7,\n",
       "       6, 9, 2, 3, 9, 7, 9, 7, 7, 0, 0, 9, 7, 3, 0, 0, 0, 9, 2, 2, 6, 0,\n",
       "       4, 9, 4, 3, 6, 9, 2, 9, 2, 7, 0, 4, 5, 4, 3, 0, 7, 7, 0, 4, 2, 2,\n",
       "       0, 7, 2, 9, 7, 2, 4, 6, 0, 5, 9, 4, 7, 1, 4, 0, 3, 0, 0, 0, 0, 7,\n",
       "       2, 2, 6, 1, 9])"
      ]
     },
     "execution_count": 161,
     "metadata": {},
     "output_type": "execute_result"
    }
   ],
   "source": [
    "clustering_model.labels_"
   ]
  },
  {
   "cell_type": "code",
   "execution_count": 162,
   "id": "5f866af8",
   "metadata": {},
   "outputs": [
    {
     "data": {
      "text/plain": [
       "array([[0.14709659, 0.39479494],\n",
       "       [0.45549639, 0.4745163 ],\n",
       "       [0.14173112, 0.14403207],\n",
       "       [0.30580579, 0.33206807],\n",
       "       [0.26199588, 0.4940232 ],\n",
       "       [0.72166496, 0.67358491],\n",
       "       [0.34862259, 0.7390092 ],\n",
       "       [0.11231534, 0.26493186],\n",
       "       [0.75539575, 0.2472002 ],\n",
       "       [0.19355701, 0.28814016]])"
      ]
     },
     "execution_count": 162,
     "metadata": {},
     "output_type": "execute_result"
    }
   ],
   "source": [
    "clustering_model.cluster_centers_"
   ]
  },
  {
   "cell_type": "code",
   "execution_count": 163,
   "id": "55d70eb4",
   "metadata": {},
   "outputs": [],
   "source": [
    "CC = pd.DataFrame(mm.inverse_transform(clustering_model.cluster_centers_), columns=[\"X\", \"Y\"])"
   ]
  },
  {
   "cell_type": "code",
   "execution_count": 164,
   "id": "fb2e4d6c",
   "metadata": {},
   "outputs": [
    {
     "data": {
      "text/html": [
       "<div>\n",
       "<style scoped>\n",
       "    .dataframe tbody tr th:only-of-type {\n",
       "        vertical-align: middle;\n",
       "    }\n",
       "\n",
       "    .dataframe tbody tr th {\n",
       "        vertical-align: top;\n",
       "    }\n",
       "\n",
       "    .dataframe thead th {\n",
       "        text-align: right;\n",
       "    }\n",
       "</style>\n",
       "<table border=\"1\" class=\"dataframe\">\n",
       "  <thead>\n",
       "    <tr style=\"text-align: right;\">\n",
       "      <th></th>\n",
       "      <th>X</th>\n",
       "      <th>Y</th>\n",
       "    </tr>\n",
       "  </thead>\n",
       "  <tbody>\n",
       "    <tr>\n",
       "      <th>0</th>\n",
       "      <td>3167.980769</td>\n",
       "      <td>155.468923</td>\n",
       "    </tr>\n",
       "    <tr>\n",
       "      <th>1</th>\n",
       "      <td>9495.419355</td>\n",
       "      <td>185.045548</td>\n",
       "    </tr>\n",
       "    <tr>\n",
       "      <th>2</th>\n",
       "      <td>3057.897436</td>\n",
       "      <td>62.435897</td>\n",
       "    </tr>\n",
       "    <tr>\n",
       "      <th>3</th>\n",
       "      <td>6424.217294</td>\n",
       "      <td>132.197255</td>\n",
       "    </tr>\n",
       "    <tr>\n",
       "      <th>4</th>\n",
       "      <td>5525.369565</td>\n",
       "      <td>192.282609</td>\n",
       "    </tr>\n",
       "    <tr>\n",
       "      <th>5</th>\n",
       "      <td>14956.400000</td>\n",
       "      <td>258.900000</td>\n",
       "    </tr>\n",
       "    <tr>\n",
       "      <th>6</th>\n",
       "      <td>7302.689655</td>\n",
       "      <td>283.172414</td>\n",
       "    </tr>\n",
       "    <tr>\n",
       "      <th>7</th>\n",
       "      <td>2454.373832</td>\n",
       "      <td>107.289720</td>\n",
       "    </tr>\n",
       "    <tr>\n",
       "      <th>8</th>\n",
       "      <td>15648.454545</td>\n",
       "      <td>100.711273</td>\n",
       "    </tr>\n",
       "    <tr>\n",
       "      <th>9</th>\n",
       "      <td>4121.209091</td>\n",
       "      <td>115.900000</td>\n",
       "    </tr>\n",
       "  </tbody>\n",
       "</table>\n",
       "</div>"
      ],
      "text/plain": [
       "              X           Y\n",
       "0   3167.980769  155.468923\n",
       "1   9495.419355  185.045548\n",
       "2   3057.897436   62.435897\n",
       "3   6424.217294  132.197255\n",
       "4   5525.369565  192.282609\n",
       "5  14956.400000  258.900000\n",
       "6   7302.689655  283.172414\n",
       "7   2454.373832  107.289720\n",
       "8  15648.454545  100.711273\n",
       "9   4121.209091  115.900000"
      ]
     },
     "execution_count": 164,
     "metadata": {},
     "output_type": "execute_result"
    }
   ],
   "source": [
    "CC # Cluster centers"
   ]
  },
  {
   "cell_type": "code",
   "execution_count": 165,
   "id": "92987627",
   "metadata": {},
   "outputs": [
    {
     "data": {
      "text/plain": [
       "<matplotlib.collections.PathCollection at 0x135a1350700>"
      ]
     },
     "execution_count": 165,
     "metadata": {},
     "output_type": "execute_result"
    },
    {
     "data": {
      "image/png": "[encoded data removed]",
      "text/plain": [
       "<Figure size 640x480 with 1 Axes>"
      ]
     },
     "metadata": {},
     "output_type": "display_data"
    }
   ],
   "source": [
    "import matplotlib.pyplot as plt\n",
    "plt.scatter(C['ApplicantIncome'], C['LoanAmount'], s=10, c=clustering_model.labels_)\n",
    "plt.xlabel(\"Income\")\n",
    "plt.ylabel(\"Loan Amount\")\n",
    "plt.title(\"Income X Loan Amount\")\n",
    "\n",
    "plt.scatter(CC.X, CC.Y, c='r')"
   ]
  },
  {
   "cell_type": "markdown",
   "id": "079aaf50",
   "metadata": {},
   "source": [
    "## Model for clustering"
   ]
  },
  {
   "cell_type": "code",
   "execution_count": 166,
   "id": "1a71847b",
   "metadata": {},
   "outputs": [],
   "source": [
    "km = KMeans(n_clusters=10)\n",
    "clustering_model = km.fit(Cnew)"
   ]
  },
  {
   "cell_type": "code",
   "execution_count": 167,
   "id": "759811b1",
   "metadata": {},
   "outputs": [],
   "source": [
    "pkl.dump(clustering_model, open(\"clustering_model.pkl\", \"wb\"))"
   ]
  },
  {
   "cell_type": "code",
   "execution_count": null,
   "id": "d1e938b4",
   "metadata": {},
   "outputs": [],
   "source": []
  }
 ],
 "metadata": {
  "kernelspec": {
   "display_name": "Python 3 (ipykernel)",
   "language": "python",
   "name": "python3"
  },
  "language_info": {
   "codemirror_mode": {
    "name": "ipython",
    "version": 3
   },
   "file_extension": ".py",
   "mimetype": "text/x-python",
   "name": "python",
   "nbconvert_exporter": "python",
   "pygments_lexer": "ipython3",
   "version": "3.9.15"
  },
  "varInspector": {
   "cols": {
    "lenName": 16,
    "lenType": 16,
    "lenVar": 40
   },
   "kernels_config": {
    "python": {
     "delete_cmd_postfix": "",
     "delete_cmd_prefix": "del ",
     "library": "var_list.py",
     "varRefreshCmd": "print(var_dic_list())"
    },
    "r": {
     "delete_cmd_postfix": ") ",
     "delete_cmd_prefix": "rm(",
     "library": "var_list.r",
     "varRefreshCmd": "cat(var_dic_list()) "
    }
   },
   "types_to_exclude": [
    "module",
    "function",
    "builtin_function_or_method",
    "instance",
    "_Feature"
   ],
   "window_display": false
  }
 },
 "nbformat": 4,
 "nbformat_minor": 5
}
